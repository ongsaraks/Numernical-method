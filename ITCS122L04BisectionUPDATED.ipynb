{
 "cells": [
  {
   "cell_type": "code",
   "execution_count": 4,
   "metadata": {
    "executionInfo": {
     "elapsed": 11,
     "status": "ok",
     "timestamp": 1706417722345,
     "user": {
      "displayName": "Piyanuch Silapachote",
      "userId": "08276091469210251884"
     },
     "user_tz": -420
    },
    "id": "IPzXDAFIErGB"
   },
   "outputs": [],
   "source": [
    "import numpy as np\n",
    "\n",
    "def incsearch(func,xmin,xmax,ns=50):\n",
    "  \"\"\"\n",
    "  incsearch: incremental search locator\n",
    "    incsearch(func,xmin,xmax,ns)\n",
    "    find brackets of x that contain sign changes in\n",
    "    a function of x on an interval\n",
    "  input:\n",
    "    fun = name of the function\n",
    "    xmin, xmax = endpoints of the interval\n",
    "    ns = number of subintervals, default value = 50\n",
    "  output:\n",
    "    nb = number of bracket pairs found\n",
    "    xb = list of bracket pair values\n",
    "    or returns \"no brackets found\"\n",
    "  \"\"\"\n",
    "\n",
    "  x = np.linspace(xmin,xmax,ns+1) # create array of x values\n",
    "  f = [] # build array of corresponding function values\n",
    "  for k in range(ns+1):\n",
    "    f.append(func(x[k]))\n",
    "\n",
    "  nb = 0\n",
    "  xb = []\n",
    "  for k in range(ns): # check adjacent pairs of function values\n",
    "      if (func(x[k]) * func(x[k+1]) < 0): # for sign change\n",
    "        nb = nb + 1 # increment the bracket counter\n",
    "        xb.append((x[k],x[k+1])) # save the bracketing pair\n",
    "  if nb==0:\n",
    "    return 'no brackets found'\n",
    "  else:\n",
    "    return nb, xb"
   ]
  },
  {
   "cell_type": "code",
   "execution_count": 5,
   "metadata": {
    "colab": {
     "base_uri": "https://localhost:8080/"
    },
    "executionInfo": {
     "elapsed": 10,
     "status": "ok",
     "timestamp": 1706417722345,
     "user": {
      "displayName": "Piyanuch Silapachote",
      "userId": "08276091469210251884"
     },
     "user_tz": -420
    },
    "id": "2wZPZ_3gZQEq",
    "outputId": "2792fea5-34af-4481-e78e-22d502c49386"
   },
   "outputs": [
    {
     "name": "stdout",
     "output_type": "stream",
     "text": [
      "6[(-1.5, -1.25), (1.0, 1.25), (1.5, 1.75), (2.75, 3.0), (3.25, 3.5), (3.75, 4.0)]"
     ]
    }
   ],
   "source": [
    "(nb, xb) = incsearch(lambda x: ((np.cos(x**2) - np.sin(2*x - 6) + x/4)),-1.5,4,22)\n",
    "print(nb ,end=\"\")\n",
    "print(xb,end = \"\")"
   ]
  },
  {
   "cell_type": "code",
   "execution_count": 6,
   "metadata": {
    "executionInfo": {
     "elapsed": 9,
     "status": "ok",
     "timestamp": 1706417722346,
     "user": {
      "displayName": "Piyanuch Silapachote",
      "userId": "08276091469210251884"
     },
     "user_tz": -420
    },
    "id": "2LSffO8YK1d6"
   },
   "outputs": [],
   "source": [
    "def bisect(func,xl,xu,es=1.e-7,maxit=30):\n",
    "    \"\"\"\n",
    "    Uses the bisection method to estimate a root of func(x).\n",
    "    The method is iterated until the relative error from\n",
    "    one iteration to the next falls below the specified\n",
    "    value or until the maximum number of iterations is\n",
    "    reached first.\n",
    "    Input:\n",
    "        func = name of the function\n",
    "        xl = lower guess\n",
    "        xu = upper guess\n",
    "        es = relative error specification (default 1.e−7)\n",
    "        maxit = maximum number of iterations allowed (default 30)\n",
    "    Output:\n",
    "        xm = root estimate\n",
    "        ea = actual relative error achieved\n",
    "        i+1 = number of iterations required\n",
    "        or\n",
    "        error message if initial guesses do not bracket solution\n",
    "    \"\"\"\n",
    "    if func(xl)*func(xu)>0:\n",
    "        return 'initial estimates do not bracket solution'\n",
    "    xmold = xl\n",
    "    for i in range(maxit):\n",
    "        xm = (xl+xu)/2\n",
    "        ea = abs((xm-xmold)/xm)\n",
    "        if ea < es: break\n",
    "        if func(xm)*func(xl)>0:\n",
    "            xl = xm\n",
    "        else:\n",
    "            xu = xm\n",
    "        xmold = xm\n",
    "        print(xm,func(xm),ea,i+1)\n",
    "     \n"
   ]
  },
  {
   "cell_type": "code",
   "execution_count": 7,
   "metadata": {
    "colab": {
     "base_uri": "https://localhost:8080/"
    },
    "executionInfo": {
     "elapsed": 9,
     "status": "ok",
     "timestamp": 1706417722347,
     "user": {
      "displayName": "Piyanuch Silapachote",
      "userId": "08276091469210251884"
     },
     "user_tz": -420
    },
    "id": "j8lTMtIoK4-r",
    "outputId": "f0d53485-e5ed-43be-9b1e-d19e47484fc3"
   },
   "outputs": [
    {
     "name": "stdout",
     "output_type": "stream",
     "text": [
      "3.875 -0.7849914603441506 0.03225806451612903 1\n",
      "3.8125 -0.43297192771802506 0.01639344262295082 2\n",
      "3.78125 -0.2146471317744516 0.008264462809917356 3\n",
      "3.765625 -0.10056356176565862 0.004149377593360996 4\n",
      "3.7578125 -0.043013851576939044 0.002079002079002079 5\n",
      "3.75390625 -0.014201352512199672 0.001040582726326743 6\n",
      "3.751953125 0.00020325742534810232 0.0005205622071837585 7\n"
     ]
    }
   ],
   "source": [
    "bisect(lambda x: ((np.cos(x**2) - np.sin(2*x - 6) + x/4)),3.75,4.0,0.0005)"
   ]
  },
  {
   "cell_type": "code",
   "execution_count": 14,
   "metadata": {},
   "outputs": [],
   "source": [
    "def bisect(func,xl,xu,es=1.e-7,maxit=30):\n",
    "    \"\"\"\n",
    "    Uses the bisection method to estimate a root of func(x).\n",
    "    The method is iterated until the relative error from\n",
    "    one iteration to the next falls below the specified\n",
    "    value or until the maximum number of iterations is\n",
    "    reached first.\n",
    "    Input:\n",
    "        func = name of the function\n",
    "        xl = lower guess\n",
    "        xu = upper guess\n",
    "        es = relative error specification (default 1.e−7)\n",
    "        maxit = maximum number of iterations allowed (default 30)\n",
    "    Output:\n",
    "        xm = root estimate\n",
    "        ea = actual relative error achieved\n",
    "        i+1 = number of iterations required\n",
    "        or\n",
    "        error message if initial guesses do not bracket solution\n",
    "    \"\"\"\n",
    "    if func(xl)*func(xu)>0:\n",
    "        return 'initial estimates do not bracket solution'\n",
    "    xmold = xl\n",
    "    for i in range(maxit):\n",
    "        xm = (xl+xu)/2\n",
    "        ea = abs((xm-xmold)/xm)*100\n",
    "        print(((xm-xmold)/xm)*100)\n",
    "        if ea < es: break\n",
    "        if func(xm)*func(xl)>0:\n",
    "            xl = xm\n",
    "        else:\n",
    "            xu = xm\n",
    "        xmold = xm\n",
    "        print(xm,func(xm),ea,i+1)\n",
    "    return xm,func(xm),ea,i+1"
   ]
  },
  {
   "cell_type": "code",
   "execution_count": 16,
   "metadata": {},
   "outputs": [
    {
     "name": "stdout",
     "output_type": "stream",
     "text": [
      "-100.0\n",
      "-1.5 -0.4748077366687391 100.0 1\n",
      "33.33333333333333\n",
      "-2.25 0.7563472454454783 33.33333333333333 2\n",
      "-20.0\n",
      "-1.875 0.18240034571248165 20.0 3\n",
      "-11.11111111111111\n",
      "-1.6875 -0.14212211775029548 11.11111111111111 4\n",
      "5.263157894736842\n",
      "-1.78125 0.021973836262884905 5.263157894736842 5\n",
      "-2.7027027027027026\n",
      "-1.734375 -0.059716381238012206 2.7027027027027026 6\n",
      "1.3333333333333335\n",
      "-1.7578125 -0.018769143901510243 1.3333333333333335 7\n",
      "0.6622516556291391\n",
      "-1.76953125 0.0016294586605377082 0.6622516556291391 8\n",
      "-0.33222591362126247\n",
      "-1.763671875 -0.008563261763165797 0.33222591362126247 9\n",
      "0.16583747927031509\n",
      "-1.7666015625 -0.00346523166113194 0.16583747927031509 10\n",
      "0.08285004142502071\n",
      "-1.76806640625 -0.0009174659448261679 0.08285004142502071 11\n",
      "0.041407867494824016\n",
      "-1.768798828125 0.0003561018819908113 0.041407867494824016 12\n",
      "1.3085506275125982\n"
     ]
    }
   ],
   "source": [
    "import sympy as np\n",
    "x = np.Symbol('x')\n",
    "fx = ((x**2)/9) - 2*(np.sin(x)) - 1\n",
    "dfx = fx.diff(x)\n",
    "ddfx = dfx.diff(x)\n",
    "fx = np.lambdify(x,fx)\n",
    "dfx = np.lambdify(x,dfx)\n",
    "ddfx = np.lambdify(x,ddfx)\n",
    "(xm,ym,ea,it) = bisect(dfx ,-3,0,0.05)\n",
    "print(xm,ym,ea,it)\n",
    "print(fx(xm))"
   ]
  },
  {
   "cell_type": "code",
   "execution_count": 10,
   "metadata": {},
   "outputs": [],
   "source": [
    "def bisectq3(func,xl,xu,es=1.e-7,maxit=30):\n",
    "    \"\"\"\n",
    "    Uses the bisection method to estimate a root of func(x).\n",
    "    The method is iterated until the relative error from\n",
    "    one iteration to the next falls below the specified\n",
    "    value or until the maximum number of iterations is\n",
    "    reached first.\n",
    "    Input:\n",
    "        func = name of the function\n",
    "        xl = lower guess\n",
    "        xu = upper guess\n",
    "        es = relative error specification (default 1.e−7)\n",
    "        maxit = maximum number of iterations allowed (default 30)\n",
    "    Output:\n",
    "        xm = root estimate\n",
    "        ea = actual relative error achieved\n",
    "        i+1 = number of iterations required\n",
    "        or\n",
    "        error message if initial guesses do not bracket solution\n",
    "    \"\"\"\n",
    "    if func(xl)*func(xu)>0:\n",
    "        return 'initial estimates do not bracket solution'\n",
    "    xmold = xl\n",
    "    for i in range(maxit):\n",
    "        xm = (xl+xu)/2\n",
    "        ea = abs((xm-xmold)/xm)*100\n",
    "        print(((xm-xmold)/xm)*100)\n",
    "        if ea < es: break\n",
    "        if func(xm)*func(xl)>0:\n",
    "            xl = xm\n",
    "        else:\n",
    "            xu = xm\n",
    "        xmold = xm\n",
    "        print(xm,func(xm),ea,i+1)\n",
    "    return xm,func(xm),ea,i+1"
   ]
  },
  {
   "cell_type": "code",
   "execution_count": 11,
   "metadata": {},
   "outputs": [
    {
     "name": "stdout",
     "output_type": "stream",
     "text": [
      "-33.33333333333333\n",
      "-4.5 -0.5784084011384406 33.33333333333333 1\n",
      "-20.0\n",
      "-3.75 0.8077853813457883 20.0 2\n",
      "9.090909090909092\n",
      "-4.125 0.19171238631816678 9.090909090909092 3\n",
      "4.3478260869565215\n",
      "-4.3125 -0.17970116518979418 4.3478260869565215 4\n",
      "-2.2222222222222223\n",
      "-4.21875 0.010167113995179666 2.2222222222222223 5\n",
      "1.098901098901099\n",
      "-4.265625 -0.08381787212266678 1.098901098901099 6\n",
      "-0.5524861878453038\n",
      "-4.2421875 -0.036576513918883835 0.5524861878453038 7\n",
      "-0.2770083102493075\n",
      "-4.23046875 -0.013141051184344166 0.2770083102493075 8\n",
      "-0.13869625520110956\n",
      "-4.224609375 -0.0014708782840849866 0.13869625520110956 9\n",
      "-0.06939625260235947\n",
      "-4.2216796875 0.004352162637600077 0.06939625260235947 10\n",
      "0.0346860908775581\n",
      "-4.22314453125 0.00144165059941892 0.0346860908775581 11\n",
      "-0.7837152957466222\n"
     ]
    }
   ],
   "source": [
    "import sympy as np\n",
    "x = np.Symbol('x')\n",
    "fx = ((x**2)/9) - 2*(np.sin(x)) - 1\n",
    "dfx = fx.diff(x)\n",
    "ddfx = dfx.diff(x)\n",
    "fx = np.lambdify(x,fx)\n",
    "dfx = np.lambdify(x,dfx)\n",
    "ddfx = np.lambdify(x,ddfx)\n",
    "(xm,ym,ea,it) = bisectq3(dfx ,-6,-3,0.05)\n",
    "print(xm,ym,ea,it)\n",
    "print(fx(xm))"
   ]
  },
  {
   "cell_type": "code",
   "execution_count": null,
   "metadata": {},
   "outputs": [],
   "source": []
  }
 ],
 "metadata": {
  "colab": {
   "authorship_tag": "ABX9TyNSWqfxNWCLlHp7b5/CatMv",
   "provenance": [
    {
     "file_id": "1GHgBRgVffG_HPu_M3do4My6dYTKwBqVf",
     "timestamp": 1703509550829
    },
    {
     "file_id": "1rOcNQvmE0pLdNWfS927bVtouonf0mC32",
     "timestamp": 1703490437287
    }
   ]
  },
  "kernelspec": {
   "display_name": "Python 3 (ipykernel)",
   "language": "python",
   "name": "python3"
  },
  "language_info": {
   "codemirror_mode": {
    "name": "ipython",
    "version": 3
   },
   "file_extension": ".py",
   "mimetype": "text/x-python",
   "name": "python",
   "nbconvert_exporter": "python",
   "pygments_lexer": "ipython3",
   "version": "3.11.5"
  }
 },
 "nbformat": 4,
 "nbformat_minor": 4
}
