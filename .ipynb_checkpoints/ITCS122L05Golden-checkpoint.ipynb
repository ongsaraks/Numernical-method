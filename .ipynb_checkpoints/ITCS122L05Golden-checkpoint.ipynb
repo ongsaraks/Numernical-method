{
 "cells": [
  {
   "cell_type": "code",
   "execution_count": 3,
   "metadata": {
    "executionInfo": {
     "elapsed": 5,
     "status": "ok",
     "timestamp": 1707112847151,
     "user": {
      "displayName": "Piyanuch Silapachote",
      "userId": "08276091469210251884"
     },
     "user_tz": -420
    },
    "id": "IPzXDAFIErGB"
   },
   "outputs": [],
   "source": [
    "import numpy as np\n",
    "\n",
    "def goldmin(f,xl,xu,Ea=1.e-7,maxit=30):\n",
    "    \"\"\"\n",
    "    use the golden-section search to find the minimum of f(x)\n",
    "    input:\n",
    "        f = name of the function\n",
    "        xl = lower initial guess\n",
    "        xu = upper initial guess\n",
    "        Ea = absolute relative error criterion (default = 1.e-7)\n",
    "        maxit = maximum number of iterations (default = 30)\n",
    "    output:\n",
    "        xopt = location of the minimum\n",
    "        f(xopt) = function value at the minimum\n",
    "        ea = absolute relative error achieved\n",
    "        i+1 = number of iterations required\n",
    "    \"\"\"\n",
    "    phi = (1+np.sqrt(5))/2\n",
    "    #d = (phi - 1)*(xu-xl)\n",
    "    d = ((1+5**.5)/2-1)*(xu-xl)\n",
    "    x1 = xl + d ; f1 = f(x1)\n",
    "    x2 = xu - d ; f2 = f(x2)\n",
    "    for i in range(maxit):\n",
    "        xint = xu - xl\n",
    "        if f1 < f2:\n",
    "            xopt = x1\n",
    "            xl = x2\n",
    "            x2 = x1\n",
    "            f2 = f1\n",
    "            x1 = xl + (phi-1)*(xu-xl)\n",
    "            f1 = f(x1)\n",
    "        else:\n",
    "            xopt = x2\n",
    "            xu = x1\n",
    "            x1 = x2\n",
    "            f1 = f2\n",
    "            x2 = xu - (phi-1)*(xu-xl)\n",
    "            f2 = f(x2)\n",
    "        if xopt != 0:\n",
    "            ea = (2-phi)*abs(xint/xopt)\n",
    "            if ea <= Ea: break\n",
    "        print(\"%.5f %.5f %.5f %d\"%(xopt,f(xopt),ea,i+1)) \n",
    "            \n",
    "#print(\"%.5f %.5f %.5f %d\"%(xopt,f(xopt),ea,i+1)) \n",
    "#print(\"%.5f %.5f %d\"%(xopt,f(xopt),i+1))\n",
    "#check github\n",
    "#d = ((1+5**.5)/2-1)*(xu-xl)"
   ]
  },
  {
   "cell_type": "code",
   "execution_count": 5,
   "metadata": {
    "colab": {
     "base_uri": "https://localhost:8080/"
    },
    "executionInfo": {
     "elapsed": 12,
     "status": "ok",
     "timestamp": 1707112908432,
     "user": {
      "displayName": "Piyanuch Silapachote",
      "userId": "08276091469210251884"
     },
     "user_tz": -420
    },
    "id": "PHFlVuxn2iE2",
    "outputId": "9d9f23ce-f05f-43f6-b5fb-29ec9d7d8aab"
   },
   "outputs": [
    {
     "name": "stdout",
     "output_type": "stream",
     "text": [
      "0.05573 0.11456 54.83282 1\n",
      "-1.11146 -0.98758 1.69916 2\n",
      "-1.11146 -0.98758 1.05014 3\n",
      "-1.11146 -0.98758 0.64902 4\n",
      "-1.11146 -0.98758 0.40112 5\n",
      "-0.94117 -0.99654 0.29276 6\n",
      "-0.94117 -0.99654 0.18093 7\n",
      "-1.00621 -0.99996 0.10460 8\n",
      "-1.00621 -0.99996 0.06464 9\n",
      "-1.00621 -0.99996 0.03995 10\n",
      "-1.00621 -0.99996 0.02469 11\n",
      "-0.99672 -0.99999 0.01541 12\n",
      "-0.99672 -0.99999 0.00952 13\n",
      "-1.00035 -1.00000 0.00586 14\n",
      "-1.00035 -1.00000 0.00362 15\n",
      "-1.00035 -1.00000 0.00224 16\n",
      "-1.00035 -1.00000 0.00138 17\n",
      "-0.99982 -1.00000 0.00086 18\n",
      "-0.99982 -1.00000 0.00053 19\n",
      "-1.00002 -1.00000 0.00033 20\n",
      "-1.00002 -1.00000 0.00020 21\n",
      "-1.00002 -1.00000 0.00012 22\n",
      "-1.00002 -1.00000 0.00008 23\n",
      "-0.99999 -1.00000 0.00005 24\n",
      "-0.99999 -1.00000 0.00003 25\n",
      "-1.00000 -1.00000 0.00002 26\n",
      "-1.00000 -1.00000 0.00001 27\n",
      "-1.00000 -1.00000 0.00001 28\n",
      "-1.00000 -1.00000 0.00000 29\n",
      "-1.00000 -1.00000 0.00000 30\n"
     ]
    }
   ],
   "source": [
    "goldmin(lambda x:  (x**2)+2*x,-3,5)"
   ]
  },
  {
   "cell_type": "code",
   "execution_count": null,
   "metadata": {},
   "outputs": [],
   "source": []
  },
  {
   "cell_type": "code",
   "execution_count": null,
   "metadata": {},
   "outputs": [],
   "source": []
  }
 ],
 "metadata": {
  "colab": {
   "authorship_tag": "ABX9TyPMUqHHCHTvrHFFwINUDq/J",
   "provenance": [
    {
     "file_id": "1GHgBRgVffG_HPu_M3do4My6dYTKwBqVf",
     "timestamp": 1703509550829
    },
    {
     "file_id": "1rOcNQvmE0pLdNWfS927bVtouonf0mC32",
     "timestamp": 1703490437287
    }
   ]
  },
  "kernelspec": {
   "display_name": "Python 3 (ipykernel)",
   "language": "python",
   "name": "python3"
  },
  "language_info": {
   "codemirror_mode": {
    "name": "ipython",
    "version": 3
   },
   "file_extension": ".py",
   "mimetype": "text/x-python",
   "name": "python",
   "nbconvert_exporter": "python",
   "pygments_lexer": "ipython3",
   "version": "3.11.5"
  }
 },
 "nbformat": 4,
 "nbformat_minor": 4
}
