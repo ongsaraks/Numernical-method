{
 "cells": [
  {
   "cell_type": "code",
   "execution_count": 10,
   "metadata": {
    "executionInfo": {
     "elapsed": 11,
     "status": "ok",
     "timestamp": 1706417722345,
     "user": {
      "displayName": "Piyanuch Silapachote",
      "userId": "08276091469210251884"
     },
     "user_tz": -420
    },
    "id": "IPzXDAFIErGB"
   },
   "outputs": [
    {
     "ename": "TypeError",
     "evalue": "unsupported operand type(s) for *: 'numpy.ufunc' and 'float'",
     "output_type": "error",
     "traceback": [
      "\u001b[1;31m---------------------------------------------------------------------------\u001b[0m",
      "\u001b[1;31mTypeError\u001b[0m                                 Traceback (most recent call last)",
      "Cell \u001b[1;32mIn[10], line 106\u001b[0m\n\u001b[0;32m    102\u001b[0m         xmold \u001b[38;5;241m=\u001b[39m xm\n\u001b[0;32m    103\u001b[0m     \u001b[38;5;28;01mreturn\u001b[39;00m xm,func(xm),ea,i\u001b[38;5;241m+\u001b[39m\u001b[38;5;241m1\u001b[39m\n\u001b[1;32m--> 106\u001b[0m (nb, xb) \u001b[38;5;241m=\u001b[39m \u001b[43mincsearch\u001b[49m\u001b[43m(\u001b[49m\u001b[43mfunction_x\u001b[49m\u001b[43m,\u001b[49m\u001b[43m \u001b[49m\u001b[43mxmin\u001b[49m\u001b[43m,\u001b[49m\u001b[43m \u001b[49m\u001b[43mxmax\u001b[49m\u001b[43m,\u001b[49m\u001b[43m \u001b[49m\u001b[43mns\u001b[49m\u001b[43m)\u001b[49m\n\u001b[0;32m    107\u001b[0m \u001b[38;5;66;03m# ----- Search intervals ----- #\u001b[39;00m\n\u001b[0;32m    108\u001b[0m \u001b[38;5;28mprint\u001b[39m(\u001b[38;5;124m\"\u001b[39m\u001b[38;5;124m<< Search intervals >>\u001b[39m\u001b[38;5;130;01m\\n\u001b[39;00m\u001b[38;5;124m\"\u001b[39m)\n",
      "Cell \u001b[1;32mIn[10], line 37\u001b[0m, in \u001b[0;36mincsearch\u001b[1;34m(func, xmin, xmax, ns)\u001b[0m\n\u001b[0;32m     35\u001b[0m f \u001b[38;5;241m=\u001b[39m [] \u001b[38;5;66;03m# build array of corresponding function values\u001b[39;00m\n\u001b[0;32m     36\u001b[0m \u001b[38;5;28;01mfor\u001b[39;00m k \u001b[38;5;129;01min\u001b[39;00m \u001b[38;5;28mrange\u001b[39m(ns\u001b[38;5;241m+\u001b[39m\u001b[38;5;241m1\u001b[39m):\n\u001b[1;32m---> 37\u001b[0m   f\u001b[38;5;241m.\u001b[39mappend(\u001b[43mfunc\u001b[49m\u001b[43m(\u001b[49m\u001b[43mx\u001b[49m\u001b[43m[\u001b[49m\u001b[43mk\u001b[49m\u001b[43m]\u001b[49m\u001b[43m)\u001b[49m)\n\u001b[0;32m     39\u001b[0m nb \u001b[38;5;241m=\u001b[39m \u001b[38;5;241m0\u001b[39m\n\u001b[0;32m     40\u001b[0m xb \u001b[38;5;241m=\u001b[39m []\n",
      "Cell \u001b[1;32mIn[10], line 7\u001b[0m, in \u001b[0;36mfunction_x\u001b[1;34m(x)\u001b[0m\n\u001b[0;32m      6\u001b[0m \u001b[38;5;28;01mdef\u001b[39;00m \u001b[38;5;21mfunction_x\u001b[39m(x):\n\u001b[1;32m----> 7\u001b[0m     \u001b[38;5;28;01mreturn\u001b[39;00m ((\u001b[43mnp\u001b[49m\u001b[38;5;241;43m.\u001b[39;49m\u001b[43mcos\u001b[49m\u001b[38;5;241;43m*\u001b[39;49m\u001b[43m(\u001b[49m\u001b[43mx\u001b[49m\u001b[38;5;241;43m*\u001b[39;49m\u001b[38;5;241;43m*\u001b[39;49m\u001b[38;5;241;43m2\u001b[39;49m\u001b[43m)\u001b[49m \u001b[38;5;241m-\u001b[39m np\u001b[38;5;241m.\u001b[39msin(\u001b[38;5;241m2\u001b[39m\u001b[38;5;241m*\u001b[39mx \u001b[38;5;241m-\u001b[39m \u001b[38;5;241m6\u001b[39m) \u001b[38;5;241m+\u001b[39m x\u001b[38;5;241m/\u001b[39m\u001b[38;5;241m4\u001b[39m))\n",
      "\u001b[1;31mTypeError\u001b[0m: unsupported operand type(s) for *: 'numpy.ufunc' and 'float'"
     ]
    }
   ],
   "source": [
    "# INCREMENTAL SEARCH\n",
    "\n",
    "import numpy as np\n",
    "\n",
    "# func\n",
    "def function_x(x):\n",
    "    return ((np.cos(x**2) - np.sin(2*x - 6) + x/4))\n",
    "\n",
    "# search interval\n",
    "xmin = -1.5\n",
    "xmax = 4\n",
    "ns = 22\n",
    "\n",
    "# bisection\n",
    "_es = 0.0005 #relative error (default >> 1.e-7)\n",
    "_maxiter = 30 # maximum number of iterations allowed (default >> 30)\n",
    "\n",
    "def incsearch(func,xmin,xmax,ns=50):\n",
    "  \"\"\"\n",
    "  incsearch: incremental search locator\n",
    "    incsearch(func,xmin,xmax,ns)\n",
    "    find brackets of x that contain sign changes in\n",
    "    a function of x on an interval\n",
    "  input:\n",
    "    fun = name of the function\n",
    "    xmin, xmax = endpoints of the interval\n",
    "    ns = number of subintervals, default value = 50\n",
    "  output:\n",
    "    nb = number of bracket pairs found\n",
    "    xb = list of bracket pair values\n",
    "    or returns \"no brackets found\"\n",
    "  \"\"\"\n",
    "\n",
    "  x = np.linspace(xmin,xmax,ns+1) # create array of x values\n",
    "  f = [] # build array of corresponding function values\n",
    "  for k in range(ns+1):\n",
    "    f.append(func(x[k]))\n",
    "\n",
    "  nb = 0\n",
    "  xb = []\n",
    "  for k in range(ns): # check adjacent pairs of function values\n",
    "      if (func(x[k]) * func(x[k+1]) < 0): # for sign change\n",
    "        nb = nb + 1 # increment the bracket counter\n",
    "        xb.append((x[k],x[k+1])) # save the bracketing pair\n",
    "  if nb==0:\n",
    "    return 'no brackets found'\n",
    "  else:\n",
    "    return nb, xb\n",
    "\n",
    "\n",
    "def bisect(func,xl,xu,es=1.e-7,maxit=30):\n",
    "\n",
    "    \"\"\"\n",
    "    Uses the bisection method to estimate a root of func(x).\n",
    "    The method is iterated until the relative error from\n",
    "    one iteration to the next falls below the specified\n",
    "    value or until the maximum number of iterations is\n",
    "    reached first.\n",
    "    Input:\n",
    "        func = name of the function\n",
    "        xl = lower guess\n",
    "        xu = upper guess\n",
    "        es = relative error specification (default 1.e−7)\n",
    "        maxit = maximum number of iterations allowed (default 30)\n",
    "    Output:\n",
    "        xm = root estimate\n",
    "        ea = actual relative error achieved\n",
    "        i+1 = number of iterations required\n",
    "        or\n",
    "        error message if initial guesses do not bracket solution\n",
    "    \"\"\"\n",
    "    if func(xl)*func(xu)>0:\n",
    "        return 'initial estimates do not bracket solution'\n",
    "    xmold = xl\n",
    "    for i in range(maxit):\n",
    "        #print(\"[ iter : %2d ]     >>     lower bound : %.5f     upper bound : %.5f\" %(i+1, xl, xu))\n",
    "        xm = (xl+xu)/2\n",
    "        ea = abs((xm-xmold)/xm)\n",
    "        if ea < es/100: break\n",
    "        if func(xm)*func(xl)>0:\n",
    "            xl = xm\n",
    "        else:\n",
    "            xu = xm\n",
    "        xmold = xm\n",
    "        \n",
    "    print(\"\\n\")\n",
    "    return xm,func(xm),ea,i+1\n",
    "\n",
    "\n",
    "def falsepos(func,xl,xu,es=1.e-7,maxit=30):\n",
    "    if func(xl)*func(xu)>0:\n",
    "        return 'initial estimates do not bracket solution'\n",
    "    xmold = xl\n",
    "    for i in range(maxit):\n",
    "        xm = ((func(xu)*xl) - (func(xl)*xu)) / (func(xu)-func(xl))\n",
    "        ea = abs((xm-xmold)/xm)\n",
    "        if ea < es/100: break\n",
    "        if func(xm)*func(xl)>0:\n",
    "            xl = xm\n",
    "        else:\n",
    "            xu = xm\n",
    "        xmold = xm\n",
    "    return xm,func(xm),ea,i+1\n",
    "\n",
    "\n",
    "(nb, xb) = incsearch(function_x, xmin, xmax, ns)\n",
    "# ----- Search intervals ----- #\n",
    "print(\"<< Search intervals >>\\n\")\n",
    "print(\"width by (xmin+xmax)/ns : %.5f\" %((np.abs(xmin) + np.abs(xmax))/ns))\n",
    "print(\"width from calculation : %.5f\" %(xb[0][1] - xb[0][0]))\n",
    "print(\"number of subintervals containing roots : %d\\n\" %(nb))\n",
    "\n",
    "\n",
    "for k in range(nb):\n",
    "    print(\"[%d] >>\\t [lower]\\t %.5f\\t [upper]\\t %.5f\" %(k+1, xb[k][0], xb[k][1]) )\n",
    "\n",
    "# ----- Bisection ----- #\n",
    "print(\"\\n<< Bisection && False Position >>\")\n",
    "\n",
    "for i in range(nb):\n",
    "    xm, _temp, ea, totalIter = bisect(function_x, xb[i][0], xb[i][1], _es, _maxiter)\n",
    "    print(\"[ %d ]\\t xm : %.5f\\ttotalIter : %d\\t\\#bisec\" %(i, xm, totalIter))\n",
    "    \n",
    "    xm, _temp, ea, totalIter = falsepos(function_x, xb[i][0], xb[i][1], _es, _maxiter)\n",
    "    print(\"[ %d ]\\t xm : %.5f\\ttotalIter : %d\\t\\#falsepos\" %(i, xm, totalIter))"
   ]
  },
  {
   "cell_type": "code",
   "execution_count": null,
   "metadata": {
    "colab": {
     "base_uri": "https://localhost:8080/"
    },
    "executionInfo": {
     "elapsed": 10,
     "status": "ok",
     "timestamp": 1706417722345,
     "user": {
      "displayName": "Piyanuch Silapachote",
      "userId": "08276091469210251884"
     },
     "user_tz": -420
    },
    "id": "2wZPZ_3gZQEq",
    "outputId": "2792fea5-34af-4481-e78e-22d502c49386"
   },
   "outputs": [],
   "source": [
    "bisect(lambda x: ((np.cos(x**2) - np.sin(2*x - 6) + x/4)),3.75,4.0,0.0005)"
   ]
  },
  {
   "cell_type": "code",
   "execution_count": null,
   "metadata": {
    "executionInfo": {
     "elapsed": 9,
     "status": "ok",
     "timestamp": 1706417722346,
     "user": {
      "displayName": "Piyanuch Silapachote",
      "userId": "08276091469210251884"
     },
     "user_tz": -420
    },
    "id": "2LSffO8YK1d6"
   },
   "outputs": [],
   "source": []
  },
  {
   "cell_type": "code",
   "execution_count": null,
   "metadata": {
    "colab": {
     "base_uri": "https://localhost:8080/"
    },
    "executionInfo": {
     "elapsed": 9,
     "status": "ok",
     "timestamp": 1706417722347,
     "user": {
      "displayName": "Piyanuch Silapachote",
      "userId": "08276091469210251884"
     },
     "user_tz": -420
    },
    "id": "j8lTMtIoK4-r",
    "outputId": "f0d53485-e5ed-43be-9b1e-d19e47484fc3"
   },
   "outputs": [],
   "source": []
  },
  {
   "cell_type": "code",
   "execution_count": null,
   "metadata": {},
   "outputs": [],
   "source": []
  }
 ],
 "metadata": {
  "colab": {
   "authorship_tag": "ABX9TyNSWqfxNWCLlHp7b5/CatMv",
   "provenance": [
    {
     "file_id": "1GHgBRgVffG_HPu_M3do4My6dYTKwBqVf",
     "timestamp": 1703509550829
    },
    {
     "file_id": "1rOcNQvmE0pLdNWfS927bVtouonf0mC32",
     "timestamp": 1703490437287
    }
   ]
  },
  "kernelspec": {
   "display_name": "Python 3 (ipykernel)",
   "language": "python",
   "name": "python3"
  },
  "language_info": {
   "codemirror_mode": {
    "name": "ipython",
    "version": 3
   },
   "file_extension": ".py",
   "mimetype": "text/x-python",
   "name": "python",
   "nbconvert_exporter": "python",
   "pygments_lexer": "ipython3",
   "version": "3.11.5"
  }
 },
 "nbformat": 4,
 "nbformat_minor": 4
}
