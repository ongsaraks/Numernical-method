{
 "cells": [
  {
   "cell_type": "code",
   "execution_count": 1,
   "metadata": {
    "executionInfo": {
     "elapsed": 11,
     "status": "ok",
     "timestamp": 1706417722345,
     "user": {
      "displayName": "Piyanuch Silapachote",
      "userId": "08276091469210251884"
     },
     "user_tz": -420
    },
    "id": "IPzXDAFIErGB"
   },
   "outputs": [],
   "source": [
    "import numpy as np\n",
    "\n",
    "def incsearch(func,xmin,xmax,ns=50):\n",
    "  \"\"\"\n",
    "  incsearch: incremental search locator\n",
    "    incsearch(func,xmin,xmax,ns)\n",
    "    find brackets of x that contain sign changes in\n",
    "    a function of x on an interval\n",
    "  input:\n",
    "    fun = name of the function\n",
    "    xmin, xmax = endpoints of the interval\n",
    "    ns = number of subintervals, default value = 50\n",
    "  output:\n",
    "    nb = number of bracket pairs found\n",
    "    xb = list of bracket pair values\n",
    "    or returns \"no brackets found\"\n",
    "  \"\"\"\n",
    "\n",
    "  x = np.linspace(xmin,xmax,ns+1) # create array of x values\n",
    "  f = [] # build array of corresponding function values\n",
    "  for k in range(ns+1):\n",
    "    f.append(func(x[k]))\n",
    "\n",
    "  nb = 0\n",
    "  xb = []\n",
    "  for k in range(ns): # check adjacent pairs of function values\n",
    "      if (func(x[k]) * func(x[k+1]) < 0): # for sign change\n",
    "        nb = nb + 1 # increment the bracket counter\n",
    "        xb.append((x[k],x[k+1])) # save the bracketing pair\n",
    "  if nb==0:\n",
    "    return 'no brackets found'\n",
    "  else:\n",
    "    return nb, xb"
   ]
  },
  {
   "cell_type": "code",
   "execution_count": 2,
   "metadata": {
    "colab": {
     "base_uri": "https://localhost:8080/"
    },
    "executionInfo": {
     "elapsed": 10,
     "status": "ok",
     "timestamp": 1706417722345,
     "user": {
      "displayName": "Piyanuch Silapachote",
      "userId": "08276091469210251884"
     },
     "user_tz": -420
    },
    "id": "2wZPZ_3gZQEq",
    "outputId": "2792fea5-34af-4481-e78e-22d502c49386"
   },
   "outputs": [
    {
     "name": "stdout",
     "output_type": "stream",
     "text": [
      "7\n"
     ]
    },
    {
     "data": {
      "text/plain": [
       "[(3.24, 3.3),\n",
       " (3.36, 3.42),\n",
       " (3.7199999999999998, 3.7800000000000002),\n",
       " (4.2, 4.26),\n",
       " (4.26, 4.32),\n",
       " (4.68, 4.74),\n",
       " (5.64, 5.699999999999999)]"
      ]
     },
     "execution_count": 2,
     "metadata": {},
     "output_type": "execute_result"
    }
   ],
   "source": [
    "(nb, xb) = incsearch(lambda x: np.sin(10*x) + np.cos(3*x),3,6)\n",
    "print(nb)\n",
    "xb"
   ]
  },
  {
   "cell_type": "code",
   "execution_count": 2,
   "metadata": {
    "executionInfo": {
     "elapsed": 9,
     "status": "ok",
     "timestamp": 1706417722346,
     "user": {
      "displayName": "Piyanuch Silapachote",
      "userId": "08276091469210251884"
     },
     "user_tz": -420
    },
    "id": "2LSffO8YK1d6"
   },
   "outputs": [],
   "source": [
    "def bisect(func,xl,xu,es=1.e-7,maxit=30):\n",
    "    \"\"\"\n",
    "    Uses the bisection method to estimate a root of func(x).\n",
    "    The method is iterated until the relative error from\n",
    "    one iteration to the next falls below the specified\n",
    "    value or until the maximum number of iterations is\n",
    "    reached first.\n",
    "    Input:\n",
    "        func = name of the function\n",
    "        xl = lower guess\n",
    "        xu = upper guess\n",
    "        es = relative error specification (default 1.e−7)\n",
    "        maxit = maximum number of iterations allowed (default 30)\n",
    "    Output:\n",
    "        xm = root estimate\n",
    "        ea = actual relative error achieved\n",
    "        i+1 = number of iterations required\n",
    "        or\n",
    "        error message if initial guesses do not bracket solution\n",
    "    \"\"\"\n",
    "    if func(xl)*func(xu)>0:\n",
    "        return 'initial estimates do not bracket solution'\n",
    "    xmold = xl\n",
    "    for i in range(maxit):\n",
    "        xm = (xl+xu)/2\n",
    "        ea = abs((xm-xmold)/xm)\n",
    "        if ea < es: break\n",
    "        if func(xm)*func(xl)>0:\n",
    "            xl = xm\n",
    "        else:\n",
    "            xu = xm\n",
    "        xmold = xm\n",
    "    return xm,func(xm),ea,i+1\n"
   ]
  },
  {
   "cell_type": "code",
   "execution_count": 3,
   "metadata": {
    "colab": {
     "base_uri": "https://localhost:8080/"
    },
    "executionInfo": {
     "elapsed": 9,
     "status": "ok",
     "timestamp": 1706417722347,
     "user": {
      "displayName": "Piyanuch Silapachote",
      "userId": "08276091469210251884"
     },
     "user_tz": -420
    },
    "id": "j8lTMtIoK4-r",
    "outputId": "f0d53485-e5ed-43be-9b1e-d19e47484fc3"
   },
   "outputs": [
    {
     "ename": "NameError",
     "evalue": "name 'xb' is not defined",
     "output_type": "error",
     "traceback": [
      "\u001b[1;31m---------------------------------------------------------------------------\u001b[0m",
      "\u001b[1;31mNameError\u001b[0m                                 Traceback (most recent call last)",
      "Cell \u001b[1;32mIn[3], line 1\u001b[0m\n\u001b[1;32m----> 1\u001b[0m bisect(\u001b[38;5;28;01mlambda\u001b[39;00m x: np\u001b[38;5;241m.\u001b[39msin(\u001b[38;5;241m10\u001b[39m\u001b[38;5;241m*\u001b[39mx) \u001b[38;5;241m+\u001b[39m np\u001b[38;5;241m.\u001b[39mcos(\u001b[38;5;241m3\u001b[39m\u001b[38;5;241m*\u001b[39mx),xb[\u001b[38;5;241m0\u001b[39m][\u001b[38;5;241m0\u001b[39m],xb[\u001b[38;5;241m0\u001b[39m][\u001b[38;5;241m1\u001b[39m])\n",
      "\u001b[1;31mNameError\u001b[0m: name 'xb' is not defined"
     ]
    }
   ],
   "source": [
    "bisect(lambda x: np.sin(10*x) + np.cos(3*x),xb[0][0],xb[0][1])"
   ]
  },
  {
   "cell_type": "code",
   "execution_count": null,
   "metadata": {},
   "outputs": [],
   "source": []
  }
 ],
 "metadata": {
  "colab": {
   "authorship_tag": "ABX9TyNSWqfxNWCLlHp7b5/CatMv",
   "provenance": [
    {
     "file_id": "1GHgBRgVffG_HPu_M3do4My6dYTKwBqVf",
     "timestamp": 1703509550829
    },
    {
     "file_id": "1rOcNQvmE0pLdNWfS927bVtouonf0mC32",
     "timestamp": 1703490437287
    }
   ]
  },
  "kernelspec": {
   "display_name": "Python 3 (ipykernel)",
   "language": "python",
   "name": "python3"
  },
  "language_info": {
   "codemirror_mode": {
    "name": "ipython",
    "version": 3
   },
   "file_extension": ".py",
   "mimetype": "text/x-python",
   "name": "python",
   "nbconvert_exporter": "python",
   "pygments_lexer": "ipython3",
   "version": "3.11.5"
  }
 },
 "nbformat": 4,
 "nbformat_minor": 1
}
