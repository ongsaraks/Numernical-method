{
 "cells": [
  {
   "cell_type": "code",
   "execution_count": 1,
   "metadata": {
    "colab": {
     "base_uri": "https://localhost:8080/"
    },
    "executionInfo": {
     "elapsed": 13,
     "status": "ok",
     "timestamp": 1704720803553,
     "user": {
      "displayName": "Piyanuch Silapachote",
      "userId": "08276091469210251884"
     },
     "user_tz": -420
    },
    "id": "bPoi8tPPNX8m",
    "outputId": "a5331152-98d8-4d24-91a2-9204df9ba68e"
   },
   "outputs": [
    {
     "name": "stdout",
     "output_type": "stream",
     "text": [
      "0.03919043956270865\n",
      "0.3607409314169946\n",
      "0.6472046178759061\n",
      "1.4641347404442282\n",
      "1.884605662876037\n",
      "1.6088985551618005\n",
      "1.3645957620282174\n",
      "1.1829519218085123\n",
      "1.0459975860498938\n",
      "0.9411430291061897\n",
      "0.8602811559604813\n",
      "0.7982414832182768\n",
      "x= [-0.5, 0.0, 0.5, 1.0, 1.5, 2.0, 2.5, 3.0, 3.5, 4.0, 4.5, 5.0, 5.5]\n",
      "y= [1, 1.0195952197813543, 1.1999656854898515, 1.5235679944278044, 2.2556353646499185, 3.197938196087937, 4.002387473668837, 4.684685354682946, 5.276161315587203, 5.799160108612149, 6.269731623165244, 6.699872201145484, 7.098992942754623]\n"
     ]
    }
   ],
   "source": [
    "import numpy as np\n",
    "\n",
    "def euler(x0,xf,y0,dx):\n",
    "  \"\"\"\n",
    "  Input:\n",
    "    initial condition = (x0,y0), step size = dx\n",
    "    xf, the value of x at where we want to approximate\n",
    "  Output:\n",
    "    values of x and y at each iteration\n",
    "  \"\"\"\n",
    "  idx = 0\n",
    "  x,y = [x0],[y0]\n",
    "  while True:\n",
    "    x.append(x[idx] + dx)\n",
    "    y.append(y[idx] + deriv(x[idx], y[idx]) * dx)\n",
    "    print(deriv(x[idx], y[idx]))\n",
    "    idx = idx+1\n",
    "    if x[idx] >= xf-1e-9: break\n",
    "  return x,y\n",
    "\n",
    "deriv = lambda x,y: np.exp(x-y) + 4*(x**3)*np.exp(-y) #dy/dx = 2y\n",
    "x,y = euler(-0.5,5.5,1,0.5) #initial condition\n",
    "print('x=',x)\n",
    "print('y=',y)"
   ]
  },
  {
   "cell_type": "code",
   "execution_count": 2,
   "metadata": {
    "colab": {
     "base_uri": "https://localhost:8080/",
     "height": 472
    },
    "executionInfo": {
     "elapsed": 622,
     "status": "ok",
     "timestamp": 1704721112685,
     "user": {
      "displayName": "Piyanuch Silapachote",
      "userId": "08276091469210251884"
     },
     "user_tz": -420
    },
    "id": "ZXB5g9CP4UgL",
    "outputId": "581ead4b-d677-4aaa-8087-41af4a50e441"
   },
   "outputs": [
    {
     "ename": "TypeError",
     "evalue": "unsupported operand type(s) for -: 'list' and 'list'",
     "output_type": "error",
     "traceback": [
      "\u001b[1;31m---------------------------------------------------------------------------\u001b[0m",
      "\u001b[1;31mTypeError\u001b[0m                                 Traceback (most recent call last)",
      "Cell \u001b[1;32mIn[2], line 4\u001b[0m\n\u001b[0;32m      1\u001b[0m \u001b[38;5;28;01mimport\u001b[39;00m \u001b[38;5;21;01mmatplotlib\u001b[39;00m\u001b[38;5;21;01m.\u001b[39;00m\u001b[38;5;21;01mpyplot\u001b[39;00m \u001b[38;5;28;01mas\u001b[39;00m \u001b[38;5;21;01mplt\u001b[39;00m\n\u001b[0;32m      3\u001b[0m xx \u001b[38;5;241m=\u001b[39m np\u001b[38;5;241m.\u001b[39mlinspace(\u001b[38;5;241m-\u001b[39m\u001b[38;5;241m0.5\u001b[39m,\u001b[38;5;241m5.5\u001b[39m,\u001b[38;5;241m21\u001b[39m)\n\u001b[1;32m----> 4\u001b[0m yy \u001b[38;5;241m=\u001b[39m np\u001b[38;5;241m.\u001b[39mexp(x\u001b[38;5;241m-\u001b[39my) \u001b[38;5;241m+\u001b[39m \u001b[38;5;241m4\u001b[39m\u001b[38;5;241m*\u001b[39m(x\u001b[38;5;241m*\u001b[39m\u001b[38;5;241m*\u001b[39m\u001b[38;5;241m3\u001b[39m)\u001b[38;5;241m*\u001b[39mnp\u001b[38;5;241m.\u001b[39mexp(\u001b[38;5;241m-\u001b[39my)\n\u001b[0;32m      6\u001b[0m plt\u001b[38;5;241m.\u001b[39mplot(x,y, \u001b[38;5;124m'\u001b[39m\u001b[38;5;124mbo--\u001b[39m\u001b[38;5;124m'\u001b[39m, label\u001b[38;5;241m=\u001b[39m\u001b[38;5;124m'\u001b[39m\u001b[38;5;124mapproximate\u001b[39m\u001b[38;5;124m'\u001b[39m)\n\u001b[0;32m      7\u001b[0m plt\u001b[38;5;241m.\u001b[39mplot(xx,yy, \u001b[38;5;124m'\u001b[39m\u001b[38;5;124mg\u001b[39m\u001b[38;5;124m'\u001b[39m, label\u001b[38;5;241m=\u001b[39m\u001b[38;5;124m'\u001b[39m\u001b[38;5;124mexact\u001b[39m\u001b[38;5;124m'\u001b[39m)\n",
      "\u001b[1;31mTypeError\u001b[0m: unsupported operand type(s) for -: 'list' and 'list'"
     ]
    }
   ],
   "source": [
    "import matplotlib.pyplot as plt\n",
    "\n",
    "xx = np.linspace(-0.5,5.5,21)\n",
    "yy = np.exp(x-y) + 4*(x**3)*np.exp(-y)\n",
    "\n",
    "plt.plot(x,y, 'bo--', label='approximate')\n",
    "plt.plot(xx,yy, 'g', label='exact')\n",
    "plt.title('Euler''s method approximates ODE')\n",
    "plt.xlabel('x')\n",
    "plt.ylabel('y')\n",
    "plt.grid()\n",
    "plt.legend(loc='upper left')\n",
    "plt.show()\n"
   ]
  },
  {
   "cell_type": "code",
   "execution_count": null,
   "metadata": {
    "scrolled": true
   },
   "outputs": [],
   "source": []
  },
  {
   "cell_type": "code",
   "execution_count": null,
   "metadata": {},
   "outputs": [],
   "source": []
  },
  {
   "cell_type": "code",
   "execution_count": null,
   "metadata": {},
   "outputs": [],
   "source": []
  },
  {
   "cell_type": "code",
   "execution_count": null,
   "metadata": {},
   "outputs": [],
   "source": []
  },
  {
   "cell_type": "code",
   "execution_count": null,
   "metadata": {},
   "outputs": [],
   "source": []
  },
  {
   "cell_type": "markdown",
   "metadata": {},
   "source": []
  },
  {
   "cell_type": "code",
   "execution_count": null,
   "metadata": {},
   "outputs": [],
   "source": []
  }
 ],
 "metadata": {
  "colab": {
   "authorship_tag": "ABX9TyOxoTlkx/dNUxg3nOvXCMX8",
   "provenance": [
    {
     "file_id": "1rOcNQvmE0pLdNWfS927bVtouonf0mC32",
     "timestamp": 1703490437287
    }
   ]
  },
  "kernelspec": {
   "display_name": "Python 3 (ipykernel)",
   "language": "python",
   "name": "python3"
  },
  "language_info": {
   "codemirror_mode": {
    "name": "ipython",
    "version": 3
   },
   "file_extension": ".py",
   "mimetype": "text/x-python",
   "name": "python",
   "nbconvert_exporter": "python",
   "pygments_lexer": "ipython3",
   "version": "3.11.5"
  }
 },
 "nbformat": 4,
 "nbformat_minor": 1
}
