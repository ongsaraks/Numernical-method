{
 "cells": [
  {
   "cell_type": "code",
   "execution_count": 2,
   "id": "4f7c64b7",
   "metadata": {},
   "outputs": [],
   "source": [
    "from math import cos  \n",
    "def falseposition(func,xl,xu,es=1.e-7,maxit=30):\n",
    "\n",
    "    \"\"\"\n",
    "    Uses the bisection method to estimate a root of func(x).\n",
    "    The method is iterated until the relative error from\n",
    "    one iteration to the next falls below the specified\n",
    "    value or until the maximum number of iterations is\n",
    "    reached first.\n",
    "    Input:\n",
    "        func = name of the function\n",
    "        xl = lower guess\n",
    "        xu = upper guess\n",
    "        es = relative error specification (default 1.e−7)\n",
    "        maxit = maximum number of iterations allowed (default 30)\n",
    "    Output:\n",
    "        xm = root estimate\n",
    "        ea = actual relative error achieved\n",
    "        i+1 = number of iter+1ations required\n",
    "        or\n",
    "        error message if initial guesses do not bracket solution\n",
    "    \"\"\"\n",
    "     \n",
    "    if func(xl)*func(xu)>0:\n",
    "        return 'initial estimates do not bracket solution'\n",
    "    xmold = xl\n",
    "    \n",
    "    for i in range(0,maxit,1):\n",
    "        #xm = (((func(xu))*xl) - ((func(xl))*xu))/((func(xu)) \n",
    "        xm = ((func(xu)*xl) - (func(xl))*xu)/(func(xu) - func(xl))\n",
    "        ea = abs((xm-xmold)/xm)\n",
    "        #print(func(xm))\n",
    "        if ea < es: break\n",
    "        print(\"%.6f,%.6f,%.6f,%.6f,%.6f,%.6f,%.6f,%d\"%(xl,xu,xm,func(xl),func(xu),func(xm),ea,i+1))\n",
    "        \n",
    "        if func(xm)*func(xl)>0:\n",
    "            xl = xm\n",
    "        else:\n",
    "            xu = xm\n",
    "        xmold = xm\n",
    "        #print(func(xm))"
   ]
  },
  {
   "cell_type": "code",
   "execution_count": 6,
   "id": "a0c6a350",
   "metadata": {
    "scrolled": false
   },
   "outputs": [
    {
     "ename": "ZeroDivisionError",
     "evalue": "float division by zero",
     "output_type": "error",
     "traceback": [
      "\u001b[1;31m---------------------------------------------------------------------------\u001b[0m",
      "\u001b[1;31mZeroDivisionError\u001b[0m                         Traceback (most recent call last)",
      "Cell \u001b[1;32mIn[6], line 1\u001b[0m\n\u001b[1;32m----> 1\u001b[0m \u001b[43mfalseposition\u001b[49m\u001b[43m(\u001b[49m\u001b[38;5;28;43;01mlambda\u001b[39;49;00m\u001b[43m \u001b[49m\u001b[43mx\u001b[49m\u001b[43m:\u001b[49m\u001b[43m \u001b[49m\u001b[43m(\u001b[49m\u001b[43m(\u001b[49m\u001b[43mx\u001b[49m\u001b[38;5;241;43m*\u001b[39;49m\u001b[38;5;241;43m*\u001b[39;49m\u001b[38;5;241;43m3\u001b[39;49m\u001b[43m)\u001b[49m\u001b[43m \u001b[49m\u001b[38;5;241;43m+\u001b[39;49m\u001b[43m \u001b[49m\u001b[43mcos\u001b[49m\u001b[43m(\u001b[49m\u001b[43mx\u001b[49m\u001b[38;5;241;43m*\u001b[39;49m\u001b[38;5;241;43m*\u001b[39;49m\u001b[38;5;241;43m2\u001b[39;49m\u001b[43m)\u001b[49m\u001b[38;5;241;43m-\u001b[39;49m\u001b[43m(\u001b[49m\u001b[38;5;241;43m2\u001b[39;49m\u001b[38;5;241;43m*\u001b[39;49m\u001b[43mx\u001b[49m\u001b[43m)\u001b[49m\u001b[43m)\u001b[49m\u001b[38;5;241;43m-\u001b[39;49m\u001b[38;5;241;43m1\u001b[39;49m\u001b[43m,\u001b[49m\u001b[38;5;241;43m-\u001b[39;49m\u001b[38;5;241;43m0.5\u001b[39;49m\u001b[43m,\u001b[49m\u001b[38;5;241;43m0\u001b[39;49m\u001b[43m,\u001b[49m\u001b[43m)\u001b[49m\n",
      "Cell \u001b[1;32mIn[2], line 31\u001b[0m, in \u001b[0;36mfalseposition\u001b[1;34m(func, xl, xu, es, maxit)\u001b[0m\n\u001b[0;32m     28\u001b[0m \u001b[38;5;28;01mfor\u001b[39;00m i \u001b[38;5;129;01min\u001b[39;00m \u001b[38;5;28mrange\u001b[39m(\u001b[38;5;241m0\u001b[39m,maxit,\u001b[38;5;241m1\u001b[39m):\n\u001b[0;32m     29\u001b[0m     \u001b[38;5;66;03m#xm = (((func(xu))*xl) - ((func(xl))*xu))/((func(xu)) \u001b[39;00m\n\u001b[0;32m     30\u001b[0m     xm \u001b[38;5;241m=\u001b[39m ((func(xu)\u001b[38;5;241m*\u001b[39mxl) \u001b[38;5;241m-\u001b[39m (func(xl))\u001b[38;5;241m*\u001b[39mxu)\u001b[38;5;241m/\u001b[39m(func(xu) \u001b[38;5;241m-\u001b[39m func(xl))\n\u001b[1;32m---> 31\u001b[0m     ea \u001b[38;5;241m=\u001b[39m \u001b[38;5;28mabs\u001b[39m(\u001b[43m(\u001b[49m\u001b[43mxm\u001b[49m\u001b[38;5;241;43m-\u001b[39;49m\u001b[43mxmold\u001b[49m\u001b[43m)\u001b[49m\u001b[38;5;241;43m/\u001b[39;49m\u001b[43mxm\u001b[49m)\n\u001b[0;32m     32\u001b[0m     \u001b[38;5;66;03m#print(func(xm))\u001b[39;00m\n\u001b[0;32m     33\u001b[0m     \u001b[38;5;28;01mif\u001b[39;00m ea \u001b[38;5;241m<\u001b[39m es: \u001b[38;5;28;01mbreak\u001b[39;00m\n",
      "\u001b[1;31mZeroDivisionError\u001b[0m: float division by zero"
     ]
    }
   ],
   "source": [
    "falseposition(lambda x: ((x**3) + (x**2)-(2*x))-1,-0.5,0,)"
   ]
  },
  {
   "cell_type": "code",
   "execution_count": null,
   "id": "78d3e4f5",
   "metadata": {},
   "outputs": [],
   "source": [
    "def falseposition(func,xl,xu,es=1.e-7,maxit=30):\n",
    "\n",
    "    \"\"\"\n",
    "    Uses the bisection method to estimate a root of func(x).\n",
    "    The method is iterated until the relative error from\n",
    "    one iteration to the next falls below the specified\n",
    "    value or until the maximum number of iterations is\n",
    "    reached first.\n",
    "    Input:\n",
    "        func = name of the function\n",
    "        xl = lower guess\n",
    "        xu = upper guess\n",
    "        es = relative error specification (default 1.e−7)\n",
    "        maxit = maximum number of iterations allowed (default 30)\n",
    "    Output:\n",
    "        xm = root estimate\n",
    "        ea = actual relative error achieved\n",
    "        i+1 = number of iter+1ations required\n",
    "        or\n",
    "        error message if initial guesses do not bracket solution\n",
    "    \"\"\"\n",
    "     \n",
    "    if func(xl)*func(xu)>0:\n",
    "        return 'initial estimates do not bracket solution'\n",
    "    xmold = xl\n",
    "    \n",
    "    for i in range(0,maxit,1):\n",
    "        #xm = (((func(xu))*xl) - ((func(xl))*xu))/((func(xu)) \n",
    "        xm = ((func(xu)*xl) - (func(xl))*xu)/(func(xu) - func(xl))\n",
    "        ea = abs((xm-xmold)/xm)\n",
    "        #print(func(xm))\n",
    "        if ea < es: break\n",
    "        print(\"%.6f,%.6f,%.6f,%.6f,%.6f,%.6f,%.6f,%d\"%(xl,xu,xm,func(xl),func(xu),func(xm),ea,i+1))\n",
    "        \n",
    "        if func(xm)*func(xl)>0:\n",
    "            xl = xm\n",
    "        else:\n",
    "            xu = xm\n",
    "        xmold = xm\n",
    "        #print(func(xm))"
   ]
  },
  {
   "cell_type": "code",
   "execution_count": null,
   "id": "064e57ef",
   "metadata": {},
   "outputs": [
    {
     "name": "stdout",
     "output_type": "stream",
     "text": [
      "-0.500000,0.000000,-0.444444,0.125000,-1.000000,-0.001372,0.125000,1\n",
      "-0.500000,-0.444444,-0.445047,0.125000,-0.001372,0.000013,0.001355,2\n",
      "-0.445047,-0.444444,-0.445042,0.000013,-0.001372,0.000000,0.000013,3\n"
     ]
    }
   ],
   "source": [
    "falseposition(lambda x: ((x**3) + (x**2)-(2*x))-1,-0.5,0,)"
   ]
  },
  {
   "cell_type": "code",
   "execution_count": null,
   "id": "50ed10b5",
   "metadata": {},
   "outputs": [],
   "source": []
  }
 ],
 "metadata": {
  "kernelspec": {
   "display_name": "Python 3 (ipykernel)",
   "language": "python",
   "name": "python3"
  },
  "language_info": {
   "codemirror_mode": {
    "name": "ipython",
    "version": 3
   },
   "file_extension": ".py",
   "mimetype": "text/x-python",
   "name": "python",
   "nbconvert_exporter": "python",
   "pygments_lexer": "ipython3",
   "version": "3.11.2"
  }
 },
 "nbformat": 4,
 "nbformat_minor": 5
}
