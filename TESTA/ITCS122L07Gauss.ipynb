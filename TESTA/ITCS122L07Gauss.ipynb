{
 "cells": [
  {
   "cell_type": "code",
   "execution_count": 3,
   "metadata": {
    "executionInfo": {
     "elapsed": 518,
     "status": "ok",
     "timestamp": 1708225334555,
     "user": {
      "displayName": "Piyanuch Silapachote",
      "userId": "08276091469210251884"
     },
     "user_tz": -420
    },
    "id": "IPzXDAFIErGB"
   },
   "outputs": [],
   "source": [
    "import numpy as np\n",
    "\n",
    "def gaussnaive(A,b):\n",
    "    \"\"\"\n",
    "    gaussnaive: naive Gauss elimination\n",
    "    input:\n",
    "    A = coefficient matrix\n",
    "    b = constant vector\n",
    "    output:\n",
    "    x = solution vector\n",
    "    \"\"\"\n",
    "    (n,m) = A.shape\n",
    "    if n != m:\n",
    "       return 'Coefficient matrix A must be square'\n",
    "    nb = n+1\n",
    "    # build augmented matrix\n",
    "    Aug = np.hstack((A,b))\n",
    "    print(Aug)\n",
    "    # forward elimination\n",
    "    for k in range(n-1):\n",
    "      for i in range(k+1,n):\n",
    "        factor = Aug[i,k]/Aug[k,k]\n",
    "        Aug[i,k:nb] = Aug[i,k:nb]-factor*Aug[k,k:nb]\n",
    "    # back substitution\n",
    "    x = np.zeros([n,1]) # create empty x array\n",
    "    x = np.matrix(x) # convert to matrix type\n",
    "    x[n-1] = Aug[n-1,nb-1]/Aug[n-1,n-1]\n",
    "    for i in range(n-2,-1,-1):\n",
    "        x[i] = (Aug[i,nb-1]-Aug[i,i+1:n]*x[i+1:n,0])/Aug[i,i]\n",
    "    return x\n"
   ]
  },
  {
   "cell_type": "code",
   "execution_count": 4,
   "metadata": {
    "colab": {
     "base_uri": "https://localhost:8080/"
    },
    "executionInfo": {
     "elapsed": 507,
     "status": "ok",
     "timestamp": 1708225339754,
     "user": {
      "displayName": "Piyanuch Silapachote",
      "userId": "08276091469210251884"
     },
     "user_tz": -420
    },
    "id": "O9EOM-Fzf7DF",
    "outputId": "ced6b912-414f-495d-e43e-a40131a0429e"
   },
   "outputs": [
    {
     "name": "stdout",
     "output_type": "stream",
     "text": [
      "[[  4.  -2.   1.   8.]\n",
      " [  1.   1.   1. -13.]\n",
      " [  9.   3.   1.   3.]]\n"
     ]
    },
    {
     "data": {
      "text/plain": [
       "matrix([[  3.],\n",
       "        [ -4.],\n",
       "        [-12.]])"
      ]
     },
     "execution_count": 4,
     "metadata": {},
     "output_type": "execute_result"
    }
   ],
   "source": [
    "A = np.matrix('4 -2 1 ; 1 1 1 ; 9 3 1', dtype=np.float64)\n",
    "b = np.matrix('8; -13; 3')\n",
    "gaussnaive(A,b)"
   ]
  },
  {
   "cell_type": "code",
   "execution_count": null,
   "metadata": {},
   "outputs": [],
   "source": []
  }
 ],
 "metadata": {
  "colab": {
   "authorship_tag": "ABX9TyOwW4wZP8AzEzCfz2GqNWMh",
   "provenance": [
    {
     "file_id": "1GHgBRgVffG_HPu_M3do4My6dYTKwBqVf",
     "timestamp": 1703509550829
    },
    {
     "file_id": "1rOcNQvmE0pLdNWfS927bVtouonf0mC32",
     "timestamp": 1703490437287
    }
   ]
  },
  "kernelspec": {
   "display_name": "Python 3 (ipykernel)",
   "language": "python",
   "name": "python3"
  },
  "language_info": {
   "codemirror_mode": {
    "name": "ipython",
    "version": 3
   },
   "file_extension": ".py",
   "mimetype": "text/x-python",
   "name": "python",
   "nbconvert_exporter": "python",
   "pygments_lexer": "ipython3",
   "version": "3.11.5"
  }
 },
 "nbformat": 4,
 "nbformat_minor": 4
}
