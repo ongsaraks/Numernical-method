{
 "cells": [
  {
   "cell_type": "code",
   "execution_count": 13,
   "metadata": {
    "executionInfo": {
     "elapsed": 11,
     "status": "ok",
     "timestamp": 1706417722345,
     "user": {
      "displayName": "Piyanuch Silapachote",
      "userId": "08276091469210251884"
     },
     "user_tz": -420
    },
    "id": "IPzXDAFIErGB"
   },
   "outputs": [
    {
     "name": "stdout",
     "output_type": "stream",
     "text": [
      "<< Search intervals >>\n",
      "\n",
      "width by (xmin+xmax)/ns : 0.25000\n",
      "width from calculation : 0.25000\n",
      "number of subintervals containing roots : 6\n",
      "\n",
      "[1] >>\t [lower]\t -1.50000\t [upper]\t -1.25000\n",
      "[2] >>\t [lower]\t 1.00000\t [upper]\t 1.25000\n",
      "[3] >>\t [lower]\t 1.50000\t [upper]\t 1.75000\n",
      "[4] >>\t [lower]\t 2.75000\t [upper]\t 3.00000\n",
      "[5] >>\t [lower]\t 3.25000\t [upper]\t 3.50000\n",
      "[6] >>\t [lower]\t 3.75000\t [upper]\t 4.00000\n",
      "\n",
      "<< Bisection && False Position >>\n",
      "\n",
      "\n",
      "[ 0 ]\t xm : -1.36743\ttotalIter : 16\t\\#bisec\n",
      "[ 0 ]\t xm : -1.36743\ttotalIter : 4\t\\#falsepos\n",
      "\n",
      "\n",
      "[ 1 ]\t xm : 1.16179\ttotalIter : 16\t\\#bisec\n",
      "[ 1 ]\t xm : 1.16179\ttotalIter : 7\t\\#falsepos\n",
      "\n",
      "\n",
      "[ 2 ]\t xm : 1.72298\ttotalIter : 15\t\\#bisec\n",
      "[ 2 ]\t xm : 1.72299\ttotalIter : 6\t\\#falsepos\n",
      "\n",
      "\n",
      "[ 3 ]\t xm : 2.96601\ttotalIter : 15\t\\#bisec\n",
      "[ 3 ]\t xm : 2.96601\ttotalIter : 7\t\\#falsepos\n",
      "\n",
      "\n",
      "[ 4 ]\t xm : 3.26891\ttotalIter : 14\t\\#bisec\n",
      "[ 4 ]\t xm : 3.26889\ttotalIter : 4\t\\#falsepos\n",
      "\n",
      "\n",
      "[ 5 ]\t xm : 3.75197\ttotalIter : 14\t\\#bisec\n",
      "[ 5 ]\t xm : 3.75198\ttotalIter : 3\t\\#falsepos\n"
     ]
    }
   ],
   "source": [
    "# INCREMENTAL SEARCH\n",
    "\n",
    "import numpy as np\n",
    "\n",
    "# func\n",
    "def function_x(x):\n",
    "    return ((np.cos(x**2) - np.sin(2*x - 6) + x/4))\n",
    "\n",
    "# search interval\n",
    "xmin = -1.5\n",
    "xmax = 4\n",
    "ns = 22\n",
    "\n",
    "# bisection\n",
    "_es = 0.0005 #relative error (default >> 1.e-7)\n",
    "_maxiter = 30 # maximum number of iterations allowed (default >> 30)\n",
    "\n",
    "def incsearch(func,xmin,xmax,ns=50):\n",
    "  \"\"\"\n",
    "  incsearch: incremental search locator\n",
    "    incsearch(func,xmin,xmax,ns)\n",
    "    find brackets of x that contain sign changes in\n",
    "    a function of x on an interval\n",
    "  input:\n",
    "    fun = name of the function\n",
    "    xmin, xmax = endpoints of the interval\n",
    "    ns = number of subintervals, default value = 50\n",
    "  output:\n",
    "    nb = number of bracket pairs found\n",
    "    xb = list of bracket pair values\n",
    "    or returns \"no brackets found\"\n",
    "  \"\"\"\n",
    "\n",
    "  x = np.linspace(xmin,xmax,ns+1) # create array of x values\n",
    "  f = [] # build array of corresponding function values\n",
    "  for k in range(ns+1):\n",
    "    f.append(func(x[k]))\n",
    "\n",
    "  nb = 0\n",
    "  xb = []\n",
    "  for k in range(ns): # check adjacent pairs of function values\n",
    "      if (func(x[k]) * func(x[k+1]) < 0): # for sign change\n",
    "        nb = nb + 1 # increment the bracket counter\n",
    "        xb.append((x[k],x[k+1])) # save the bracketing pair\n",
    "  if nb==0:\n",
    "    return 'no brackets found'\n",
    "  else:\n",
    "    return nb, xb\n",
    "\n",
    "\n",
    "def bisect(func,xl,xu,es=1.e-7,maxit=30):\n",
    "\n",
    "    \"\"\"\n",
    "    Uses the bisection method to estimate a root of func(x).\n",
    "    The method is iterated until the relative error from\n",
    "    one iteration to the next falls below the specified\n",
    "    value or until the maximum number of iterations is\n",
    "    reached first.\n",
    "    Input:\n",
    "        func = name of the function\n",
    "        xl = lower guess\n",
    "        xu = upper guess\n",
    "        es = relative error specification (default 1.e−7)\n",
    "        maxit = maximum number of iterations allowed (default 30)\n",
    "    Output:\n",
    "        xm = root estimate\n",
    "        ea = actual relative error achieved\n",
    "        i+1 = number of iterations required\n",
    "        or\n",
    "        error message if initial guesses do not bracket solution\n",
    "    \"\"\"\n",
    "    if func(xl)*func(xu)>0:\n",
    "        return 'initial estimates do not bracket solution'\n",
    "    xmold = xl\n",
    "    for i in range(maxit):\n",
    "        #print(\"[ iter : %2d ]     >>     lower bound : %.5f     upper bound : %.5f\" %(i+1, xl, xu))\n",
    "        xm = (xl+xu)/2\n",
    "        ea = abs((xm-xmold)/xm)\n",
    "        if ea < es/100: break\n",
    "        if func(xm)*func(xl)>0:\n",
    "            xl = xm\n",
    "        else:\n",
    "            xu = xm\n",
    "        xmold = xm\n",
    "        \n",
    "    print(\"\\n\")\n",
    "    return xm,func(xm),ea,i+1\n",
    "\n",
    "\n",
    "def falsepos(func,xl,xu,es=1.e-7,maxit=30):\n",
    "    if func(xl)*func(xu)>0:\n",
    "        return 'initial estimates do not bracket solution'\n",
    "    xmold = xl\n",
    "    for i in range(maxit):\n",
    "        xm = ((func(xu)*xl) - (func(xl)*xu)) / (func(xu)-func(xl))\n",
    "        ea = abs((xm-xmold)/xm)\n",
    "        if ea < es/100: break\n",
    "        if func(xm)*func(xl)>0:\n",
    "            xl = xm\n",
    "        else:\n",
    "            xu = xm\n",
    "        xmold = xm\n",
    "    return xm,func(xm),ea,i+1\n",
    "\n",
    "\n",
    "(nb, xb) = incsearch(function_x, xmin, xmax, ns)\n",
    "# ----- Search intervals ----- #\n",
    "print(\"<< Search intervals >>\\n\")\n",
    "print(\"width by (xmin+xmax)/ns : %.5f\" %((np.abs(xmin) + np.abs(xmax))/ns))\n",
    "print(\"width from calculation : %.5f\" %(xb[0][1] - xb[0][0]))\n",
    "print(\"number of subintervals containing roots : %d\\n\" %(nb))\n",
    "\n",
    "\n",
    "for k in range(nb):\n",
    "    print(\"[%d] >>\\t [lower]\\t %.5f\\t [upper]\\t %.5f\" %(k+1, xb[k][0], xb[k][1]) )\n",
    "\n",
    "# ----- Bisection ----- #\n",
    "print(\"\\n<< Bisection && False Position >>\")\n",
    "\n",
    "for i in range(nb):\n",
    "    xm, _temp, ea, totalIter = bisect(function_x, xb[i][0], xb[i][1], _es, _maxiter)\n",
    "    print(\"[ %d ]\\t xm : %.5f\\ttotalIter : %d\\t\\#bisec\" %(i, xm, totalIter))\n",
    "    \n",
    "    xm, _temp, ea, totalIter = falsepos(function_x, xb[i][0], xb[i][1], _es, _maxiter)\n",
    "    print(\"[ %d ]\\t xm : %.5f\\ttotalIter : %d\\t\\#falsepos\" %(i, xm, totalIter))"
   ]
  },
  {
   "cell_type": "code",
   "execution_count": 14,
   "metadata": {
    "colab": {
     "base_uri": "https://localhost:8080/"
    },
    "executionInfo": {
     "elapsed": 10,
     "status": "ok",
     "timestamp": 1706417722345,
     "user": {
      "displayName": "Piyanuch Silapachote",
      "userId": "08276091469210251884"
     },
     "user_tz": -420
    },
    "id": "2wZPZ_3gZQEq",
    "outputId": "2792fea5-34af-4481-e78e-22d502c49386"
   },
   "outputs": [
    {
     "name": "stdout",
     "output_type": "stream",
     "text": [
      "\n",
      "\n"
     ]
    },
    {
     "data": {
      "text/plain": [
       "(3.7519683837890625, 9.073777802681704e-05, 4.066875704077857e-06, 14)"
      ]
     },
     "execution_count": 14,
     "metadata": {},
     "output_type": "execute_result"
    }
   ],
   "source": [
    "bisect(lambda x: ((np.cos(x**2) - np.sin(2*x - 6) + x/4)),3.75,4.0,0.0005)"
   ]
  },
  {
   "cell_type": "code",
   "execution_count": null,
   "metadata": {
    "executionInfo": {
     "elapsed": 9,
     "status": "ok",
     "timestamp": 1706417722346,
     "user": {
      "displayName": "Piyanuch Silapachote",
      "userId": "08276091469210251884"
     },
     "user_tz": -420
    },
    "id": "2LSffO8YK1d6"
   },
   "outputs": [],
   "source": []
  },
  {
   "cell_type": "code",
   "execution_count": null,
   "metadata": {
    "colab": {
     "base_uri": "https://localhost:8080/"
    },
    "executionInfo": {
     "elapsed": 9,
     "status": "ok",
     "timestamp": 1706417722347,
     "user": {
      "displayName": "Piyanuch Silapachote",
      "userId": "08276091469210251884"
     },
     "user_tz": -420
    },
    "id": "j8lTMtIoK4-r",
    "outputId": "f0d53485-e5ed-43be-9b1e-d19e47484fc3"
   },
   "outputs": [],
   "source": []
  },
  {
   "cell_type": "code",
   "execution_count": null,
   "metadata": {},
   "outputs": [],
   "source": []
  }
 ],
 "metadata": {
  "colab": {
   "authorship_tag": "ABX9TyNSWqfxNWCLlHp7b5/CatMv",
   "provenance": [
    {
     "file_id": "1GHgBRgVffG_HPu_M3do4My6dYTKwBqVf",
     "timestamp": 1703509550829
    },
    {
     "file_id": "1rOcNQvmE0pLdNWfS927bVtouonf0mC32",
     "timestamp": 1703490437287
    }
   ]
  },
  "kernelspec": {
   "display_name": "Python 3 (ipykernel)",
   "language": "python",
   "name": "python3"
  },
  "language_info": {
   "codemirror_mode": {
    "name": "ipython",
    "version": 3
   },
   "file_extension": ".py",
   "mimetype": "text/x-python",
   "name": "python",
   "nbconvert_exporter": "python",
   "pygments_lexer": "ipython3",
   "version": "3.11.5"
  }
 },
 "nbformat": 4,
 "nbformat_minor": 4
}
