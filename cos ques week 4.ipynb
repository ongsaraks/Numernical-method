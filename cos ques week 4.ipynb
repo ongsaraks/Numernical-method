{
 "cells": [
  {
   "cell_type": "code",
   "execution_count": 57,
   "id": "4f7c64b7",
   "metadata": {},
   "outputs": [],
   "source": [
    "import numpy as np  \n",
    "def falseposition(func,xl,xu,es=1.e-7,maxit=30):\n",
    "\n",
    "    \"\"\"\n",
    "    Uses the bisection method to estimate a root of func(x).\n",
    "    The method is iterated until the relative error from\n",
    "    one iteration to the next falls below the specified\n",
    "    value or until the maximum number of iterations is\n",
    "    reached first.\n",
    "    Input:\n",
    "        func = name of the function\n",
    "        xl = lower guess\n",
    "        xu = upper guess\n",
    "        es = relative error specification (default 1.e−7)\n",
    "        maxit = maximum number of iterations allowed (default 30)\n",
    "    Output:\n",
    "        xm = root estimate\n",
    "        ea = actual relative error achieved\n",
    "        i+1 = number of iter+1ations required\n",
    "        or\n",
    "        error message if initial guesses do not bracket solution\n",
    "    \"\"\"\n",
    "     \n",
    "    if func(xl)*func(xu)>0:\n",
    "        return 'initial estimates do not bracket solution'\n",
    "    xmold = xl\n",
    "    \n",
    "    for i in range(maxit):\n",
    "        #xm = (((func(xu))*xl) - ((func(xl))*xu))/((func(xu)) \n",
    "        xm = ((func(xu)*xl) - (func(xl))*xu)/(func(xu) - func(xl))\n",
    "        ea = abs((xm-xmold)/xm)\n",
    "        #print(func(xm))\n",
    "        if ea < es: break\n",
    "        print(\"%.6f,%.6f,%.6f,%.6f,%.6f,%.6f,%.6f,%d\"%(xl,xu,xm,func(xl),func(xu),func(xm),ea,i+1))\n",
    "        \n",
    "        if func(xm)*func(xl)>0:\n",
    "            xl = xm\n",
    "        else:\n",
    "            xu = xm\n",
    "        xmold = xm\n",
    "        #print(func(xm))"
   ]
  },
  {
   "cell_type": "code",
   "execution_count": 58,
   "id": "50ed10b5",
   "metadata": {},
   "outputs": [
    {
     "data": {
      "text/plain": [
       "'initial estimates do not bracket solution'"
      ]
     },
     "execution_count": 58,
     "metadata": {},
     "output_type": "execute_result"
    }
   ],
   "source": [
    "falseposition(lambda x: ((np.cos(x**2) - np.sin(2*x - 6) + x/4)),-1.5,4,0.0005)"
   ]
  }
 ],
 "metadata": {
  "kernelspec": {
   "display_name": "Python 3 (ipykernel)",
   "language": "python",
   "name": "python3"
  },
  "language_info": {
   "codemirror_mode": {
    "name": "ipython",
    "version": 3
   },
   "file_extension": ".py",
   "mimetype": "text/x-python",
   "name": "python",
   "nbconvert_exporter": "python",
   "pygments_lexer": "ipython3",
   "version": "3.11.5"
  }
 },
 "nbformat": 4,
 "nbformat_minor": 5
}
