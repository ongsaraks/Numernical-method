{
 "cells": [
  {
   "cell_type": "code",
   "execution_count": 1,
   "metadata": {
    "executionInfo": {
     "elapsed": 518,
     "status": "ok",
     "timestamp": 1708225334555,
     "user": {
      "displayName": "Piyanuch Silapachote",
      "userId": "08276091469210251884"
     },
     "user_tz": -420
    },
    "id": "IPzXDAFIErGB"
   },
   "outputs": [],
   "source": [
    "import numpy as np\n",
    "\n",
    "def gaussnaive(A,b,MI):\n",
    "    \"\"\"\n",
    "    gaussnaive: naive Gauss elimination\n",
    "    input:\n",
    "    A = coefficient matrix\n",
    "    b = constant vector\n",
    "    output:\n",
    "    x = solution vector\n",
    "    \"\"\"\n",
    "    \n",
    "    np.set_printoptions(precision=3,suppress=True)\n",
    "    (n,m) = A.shape\n",
    "    if n != m:\n",
    "       return 'Coefficient matrix A must be square'\n",
    "    nb = n+n+1\n",
    "    # build augmented matrix\n",
    "    Aug = np.hstack((A,MI,b))\n",
    "    # forward elimination\n",
    "    for k in range(n-1):\n",
    "      for i in range(k+1,n):\n",
    "        factor = Aug[i,k]/Aug[k,k]\n",
    "        Aug[i,k:nb] = Aug[i,k:nb]-factor*Aug[k,k:nb]\n",
    "        print(Aug,\"\\n\")\n",
    "        print(\"-----------------------------------\")\n",
    "          #backward.\n",
    "    print(\"======\")\n",
    "    for k in range(n-1,-1,-1):\n",
    "      p = Aug[k,k]\n",
    "      Aug[k,:] = Aug[k,:] / p\n",
    "      for i in range(k-1,-1,-1):\n",
    "        print(k,i)\n",
    "        factor = Aug[i,k]/Aug[k,k]\n",
    "        Aug[i,k:nb] = Aug[i,k:nb]-factor*Aug[k,k:nb]\n",
    "        print(Aug,\"\\n\")\n",
    "\n",
    "    p = Aug[0,0]\n",
    "    Aug[0,:] = Aug[0,:] / p\n",
    "    print(Aug,\"\\n\")\n",
    "    # back substitution\n",
    "    # x = np.zeros([n,1]) # create empty x array\n",
    "    # x = np.matrix(x) # convert to matrix type\n",
    "    # x[n-1] = Aug[n-1,nb-1]/Aug[n-1,n-1]\n",
    "    # for i in range(n-2,-1,-1):\n",
    "    #     x[i] = (Aug[i,nb-1]-Aug[i,i+1:n]*x[i+1:n,0])/Aug[i,i]\n",
    "    # return x\n"
   ]
  },
  {
   "cell_type": "code",
   "execution_count": 2,
   "metadata": {
    "colab": {
     "base_uri": "https://localhost:8080/"
    },
    "executionInfo": {
     "elapsed": 507,
     "status": "ok",
     "timestamp": 1708225339754,
     "user": {
      "displayName": "Piyanuch Silapachote",
      "userId": "08276091469210251884"
     },
     "user_tz": -420
    },
    "id": "O9EOM-Fzf7DF",
    "outputId": "ced6b912-414f-495d-e43e-a40131a0429e",
    "scrolled": true
   },
   "outputs": [
    {
     "name": "stdout",
     "output_type": "stream",
     "text": [
      "8488.0\n",
      "4472.000000000005\n",
      "1.8980322003577799\n",
      "[[  4.    -2.    -3.     6.     1.     0.     0.     0.    12.  ]\n",
      " [  0.    10.    11.   -15.    -1.5    1.     0.     0.   -24.5 ]\n",
      " [  1.     7.5    6.25   5.5    0.     0.     1.     0.    16.  ]\n",
      " [-12.    22.    15.    -1.     0.     0.     0.     1.    17.  ]] \n",
      "\n",
      "-----------------------------------\n",
      "[[  4.    -2.    -3.     6.     1.     0.     0.     0.    12.  ]\n",
      " [  0.    10.    11.   -15.    -1.5    1.     0.     0.   -24.5 ]\n",
      " [  0.     8.     7.     4.    -0.25   0.     1.     0.    13.  ]\n",
      " [-12.    22.    15.    -1.     0.     0.     0.     1.    17.  ]] \n",
      "\n",
      "-----------------------------------\n",
      "[[  4.    -2.    -3.     6.     1.     0.     0.     0.    12.  ]\n",
      " [  0.    10.    11.   -15.    -1.5    1.     0.     0.   -24.5 ]\n",
      " [  0.     8.     7.     4.    -0.25   0.     1.     0.    13.  ]\n",
      " [  0.    16.     6.    17.     3.     0.     0.     1.    53.  ]] \n",
      "\n",
      "-----------------------------------\n",
      "[[  4.    -2.    -3.     6.     1.     0.     0.     0.    12.  ]\n",
      " [  0.    10.    11.   -15.    -1.5    1.     0.     0.   -24.5 ]\n",
      " [  0.     0.    -1.8   16.     0.95  -0.8    1.     0.    32.6 ]\n",
      " [  0.    16.     6.    17.     3.     0.     0.     1.    53.  ]] \n",
      "\n",
      "-----------------------------------\n",
      "[[  4.    -2.    -3.     6.     1.     0.     0.     0.    12.  ]\n",
      " [  0.    10.    11.   -15.    -1.5    1.     0.     0.   -24.5 ]\n",
      " [  0.     0.    -1.8   16.     0.95  -0.8    1.     0.    32.6 ]\n",
      " [  0.     0.   -11.6   41.     5.4   -1.6    0.     1.    92.2 ]] \n",
      "\n",
      "-----------------------------------\n",
      "[[   4.      -2.      -3.       6.       1.       0.       0.       0.\n",
      "    12.   ]\n",
      " [   0.      10.      11.     -15.      -1.5      1.       0.       0.\n",
      "   -24.5  ]\n",
      " [   0.       0.      -1.8     16.       0.95    -0.8      1.       0.\n",
      "    32.6  ]\n",
      " [   0.       0.       0.     -62.111   -0.722    3.556   -6.444    1.\n",
      "  -117.889]] \n",
      "\n",
      "-----------------------------------\n",
      "======\n",
      "3 2\n",
      "[[  4.     -2.     -3.      6.      1.      0.      0.      0.     12.   ]\n",
      " [  0.     10.     11.    -15.     -1.5     1.      0.      0.    -24.5  ]\n",
      " [  0.      0.     -1.8     0.      0.764   0.116  -0.66    0.258   2.231]\n",
      " [ -0.     -0.     -0.      1.      0.012  -0.057   0.104  -0.016   1.898]] \n",
      "\n",
      "3 1\n",
      "[[ 4.    -2.    -3.     6.     1.     0.     0.     0.    12.   ]\n",
      " [ 0.    10.    11.     0.    -1.326  0.141  1.556 -0.242  3.97 ]\n",
      " [ 0.     0.    -1.8    0.     0.764  0.116 -0.66   0.258  2.231]\n",
      " [-0.    -0.    -0.     1.     0.012 -0.057  0.104 -0.016  1.898]] \n",
      "\n",
      "3 0\n",
      "[[ 4.    -2.    -3.     0.     0.93   0.343 -0.623  0.097  0.612]\n",
      " [ 0.    10.    11.     0.    -1.326  0.141  1.556 -0.242  3.97 ]\n",
      " [ 0.     0.    -1.8    0.     0.764  0.116 -0.66   0.258  2.231]\n",
      " [-0.    -0.    -0.     1.     0.012 -0.057  0.104 -0.016  1.898]] \n",
      "\n",
      "2 1\n",
      "[[ 4.    -2.    -3.     0.     0.93   0.343 -0.623  0.097  0.612]\n",
      " [ 0.    10.     0.     0.     3.343  0.85  -2.478  1.333 17.607]\n",
      " [-0.    -0.     1.    -0.    -0.424 -0.064  0.367 -0.143 -1.24 ]\n",
      " [-0.    -0.    -0.     1.     0.012 -0.057  0.104 -0.016  1.898]] \n",
      "\n",
      "2 0\n",
      "[[ 4.    -2.     0.     0.    -0.343  0.15   0.478 -0.333 -3.107]\n",
      " [ 0.    10.     0.     0.     3.343  0.85  -2.478  1.333 17.607]\n",
      " [-0.    -0.     1.    -0.    -0.424 -0.064  0.367 -0.143 -1.24 ]\n",
      " [-0.    -0.    -0.     1.     0.012 -0.057  0.104 -0.016  1.898]] \n",
      "\n",
      "1 0\n",
      "[[ 4.     0.     0.     0.     0.326  0.32  -0.018 -0.066  0.414]\n",
      " [ 0.     1.     0.     0.     0.334  0.085 -0.248  0.133  1.761]\n",
      " [-0.    -0.     1.    -0.    -0.424 -0.064  0.367 -0.143 -1.24 ]\n",
      " [-0.    -0.    -0.     1.     0.012 -0.057  0.104 -0.016  1.898]] \n",
      "\n",
      "[[ 1.     0.     0.     0.     0.081  0.08  -0.004 -0.017  0.104]\n",
      " [ 0.     1.     0.     0.     0.334  0.085 -0.248  0.133  1.761]\n",
      " [-0.    -0.     1.    -0.    -0.424 -0.064  0.367 -0.143 -1.24 ]\n",
      " [-0.    -0.    -0.     1.     0.012 -0.057  0.104 -0.016  1.898]] \n",
      "\n"
     ]
    }
   ],
   "source": [
    "A = np.matrix('4 -2 -3 6; 6 7 6.5 -6 ; 1 7.5 6.25 5.5 ; -12 22 15 -1', dtype=np.float64) \n",
    "b = np.matrix('12; -6.5; 16; 17')\n",
    "MI = np.matrix('1 0 0 0; 0 1 0 0  ; 0 0 1 0 ; 0 0 0 1', dtype=np.float64) \n",
    "C = np.matrix('4 -2 -3 12; 6 7 6.5 -6.5 ; 1 7.5 6.25 16 ; -12 22 15 17', dtype=np.float64) \n",
    "print(np.linalg.det(C))\n",
    "print(np.linalg.det(A))\n",
    "\n",
    "print(np.linalg.det(C) / np.linalg.det(A))\n",
    "#gaussnaive(A,b)\n",
    "gaussnaive(A,b,MI)\n"
   ]
  },
  {
   "cell_type": "code",
   "execution_count": null,
   "metadata": {},
   "outputs": [],
   "source": []
  }
 ],
 "metadata": {
  "colab": {
   "authorship_tag": "ABX9TyOwW4wZP8AzEzCfz2GqNWMh",
   "provenance": [
    {
     "file_id": "1GHgBRgVffG_HPu_M3do4My6dYTKwBqVf",
     "timestamp": 1703509550829
    },
    {
     "file_id": "1rOcNQvmE0pLdNWfS927bVtouonf0mC32",
     "timestamp": 1703490437287
    }
   ]
  },
  "kernelspec": {
   "display_name": "Python 3 (ipykernel)",
   "language": "python",
   "name": "python3"
  },
  "language_info": {
   "codemirror_mode": {
    "name": "ipython",
    "version": 3
   },
   "file_extension": ".py",
   "mimetype": "text/x-python",
   "name": "python",
   "nbconvert_exporter": "python",
   "pygments_lexer": "ipython3",
   "version": "3.11.5"
  }
 },
 "nbformat": 4,
 "nbformat_minor": 4
}
