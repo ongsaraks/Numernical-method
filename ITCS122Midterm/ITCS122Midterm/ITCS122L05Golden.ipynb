{
 "cells": [
  {
   "cell_type": "code",
   "execution_count": 4,
   "metadata": {
    "executionInfo": {
     "elapsed": 5,
     "status": "ok",
     "timestamp": 1707112847151,
     "user": {
      "displayName": "Piyanuch Silapachote",
      "userId": "08276091469210251884"
     },
     "user_tz": -420
    },
    "id": "IPzXDAFIErGB"
   },
   "outputs": [],
   "source": [
    "import numpy as np\n",
    "\n",
    "def goldmin(f,xl,xu,Ea=1.e-7,maxit=30):\n",
    "    \"\"\"\n",
    "    use the golden-section search to find the minimum of f(x)\n",
    "    input:\n",
    "        f = name of the function\n",
    "        xl = lower initial guess\n",
    "        xu = upper initial guess\n",
    "        Ea = absolute relative error criterion (default = 1.e-7)\n",
    "        maxit = maximum number of iterations (default = 30)\n",
    "    output:\n",
    "        xopt = location of the minimum\n",
    "        f(xopt) = function value at the minimum\n",
    "        ea = absolute relative error achieved\n",
    "        i+1 = number of iterations required\n",
    "    \"\"\"\n",
    "    phi = (1+np.sqrt(5))/2\n",
    "    d = (phi - 1)*(xu-xl)\n",
    "    x1 = xl + d ; f1 = f(x1)\n",
    "    x2 = xu - d ; f2 = f(x2)\n",
    "    for i in range(maxit):\n",
    "        xint = xu - xl\n",
    "        if f1 < f2:\n",
    "            xopt = x1\n",
    "            xl = x2\n",
    "            x2 = x1\n",
    "            f2 = f1\n",
    "            x1 = xl + (phi-1)*(xu-xl)\n",
    "            f1 = f(x1)\n",
    "        else:\n",
    "            xopt = x2\n",
    "            xu = x1\n",
    "            x1 = x2\n",
    "            f1 = f2\n",
    "            x2 = xu - (phi-1)*(xu-xl)\n",
    "            f2 = f(x2)\n",
    "        if xopt != 0:\n",
    "            ea = (2-phi)*abs(xint/xopt)\n",
    "            if ea <= Ea: break\n",
    "    return xopt,f(xopt),ea,i+1\n"
   ]
  },
  {
   "cell_type": "code",
   "execution_count": 6,
   "metadata": {
    "colab": {
     "base_uri": "https://localhost:8080/"
    },
    "executionInfo": {
     "elapsed": 12,
     "status": "ok",
     "timestamp": 1707112908432,
     "user": {
      "displayName": "Piyanuch Silapachote",
      "userId": "08276091469210251884"
     },
     "user_tz": -420
    },
    "id": "PHFlVuxn2iE2",
    "outputId": "9d9f23ce-f05f-43f6-b5fb-29ec9d7d8aab"
   },
   "outputs": [
    {
     "name": "stdout",
     "output_type": "stream",
     "text": [
      "-1.0062112400302838 -0.9999614204972862 0.039951839460590784 10\n"
     ]
    }
   ],
   "source": [
    "(xopt, yopt, ea, index) = goldmin(lambda x: (x**2)+2*x,-3,5,.05)\n",
    "print(xopt, yopt, ea, index)"
   ]
  }
 ],
 "metadata": {
  "colab": {
   "authorship_tag": "ABX9TyPMUqHHCHTvrHFFwINUDq/J",
   "provenance": [
    {
     "file_id": "1GHgBRgVffG_HPu_M3do4My6dYTKwBqVf",
     "timestamp": 1703509550829
    },
    {
     "file_id": "1rOcNQvmE0pLdNWfS927bVtouonf0mC32",
     "timestamp": 1703490437287
    }
   ]
  },
  "kernelspec": {
   "display_name": "Python 3 (ipykernel)",
   "language": "python",
   "name": "python3"
  },
  "language_info": {
   "codemirror_mode": {
    "name": "ipython",
    "version": 3
   },
   "file_extension": ".py",
   "mimetype": "text/x-python",
   "name": "python",
   "nbconvert_exporter": "python",
   "pygments_lexer": "ipython3",
   "version": "3.11.5"
  }
 },
 "nbformat": 4,
 "nbformat_minor": 4
}
