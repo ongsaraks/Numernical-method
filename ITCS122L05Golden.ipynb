{
 "cells": [
  {
   "cell_type": "code",
   "execution_count": 9,
   "metadata": {
    "executionInfo": {
     "elapsed": 5,
     "status": "ok",
     "timestamp": 1707112847151,
     "user": {
      "displayName": "Piyanuch Silapachote",
      "userId": "08276091469210251884"
     },
     "user_tz": -420
    },
    "id": "IPzXDAFIErGB"
   },
   "outputs": [],
   "source": [
    "import numpy as np\n",
    "\n",
    "def goldmin(f,xl,xu,Ea=1.e-7,maxit=30):\n",
    "    \"\"\"\n",
    "    use the golden-section search to find the minimum of f(x)\n",
    "    input:\n",
    "        f = name of the function\n",
    "        xl = lower initial guess\n",
    "        xu = upper initial guess\n",
    "        Ea = absolute relative error criterion (default = 1.e-7)\n",
    "        maxit = maximum number of iterations (default = 30)\n",
    "    output:\n",
    "        xopt = location of the minimum\n",
    "        f(xopt) = function value at the minimum\n",
    "        ea = absolute relative error achieved\n",
    "        i+1 = number of iterations required\n",
    "    \"\"\"\n",
    "    phi = (1+np.sqrt(5))/2\n",
    "    #d = (phi - 1)*(xu-xl)\n",
    "    d = ((1+5**.5)/2-1)*(xu-xl)\n",
    "    x1 = xl + d ; f1 = f(x1)\n",
    "    x2 = xu - d ; f2 = f(x2)\n",
    "    for i in range(maxit):\n",
    "        xint = xu - xl\n",
    "        if f1 < f2:\n",
    "            xopt = x1\n",
    "            xl = x2\n",
    "            x2 = x1\n",
    "            f2 = f1\n",
    "            x1 = xl + (phi-1)*(xu-xl)\n",
    "            f1 = f(x1)\n",
    "        else:\n",
    "            xopt = x2\n",
    "            xu = x1\n",
    "            x1 = x2\n",
    "            f1 = f2\n",
    "            x2 = xu - (phi-1)*(xu-xl)\n",
    "            f2 = f(x2)\n",
    "        if xopt != 0:\n",
    "            ea = (2-phi)*abs(xint/xopt)\n",
    "            if ea <= Ea: break\n",
    "        print(\"xL=%.5f x2=%.5f f2=%.5f x1=%.5f f1=%.5f xu=%.5f d=%.5f Optimal = %.5f Minimum = %.5f %d\"%(xl,x2,f2,x1,f1,xu,d,xopt,f(xopt),i+1)) \n",
    "#print(\"%.5f %.5f %.5f %d\"%(xopt,f(xopt),ea,i+1)) \n",
    "#print(\"%.5f %.5f %d\"%(xopt,f(xopt),i+1))\n",
    "#check github\n",
    "#d = ((1+5**.5)/2-1)*(xu-xl)"
   ]
  },
  {
   "cell_type": "code",
   "execution_count": 10,
   "metadata": {
    "colab": {
     "base_uri": "https://localhost:8080/"
    },
    "executionInfo": {
     "elapsed": 12,
     "status": "ok",
     "timestamp": 1707112908432,
     "user": {
      "displayName": "Piyanuch Silapachote",
      "userId": "08276091469210251884"
     },
     "user_tz": -420
    },
    "id": "PHFlVuxn2iE2",
    "outputId": "9d9f23ce-f05f-43f6-b5fb-29ec9d7d8aab"
   },
   "outputs": [
    {
     "name": "stdout",
     "output_type": "stream",
     "text": [
      "xL=-3.00000 x2=-1.11146 f2=-0.98758 x1=0.05573 f1=0.11456 xu=1.94427 d=4.94427 Optimal = 0.05573 Minimum = 0.11456 1\n",
      "xL=-3.00000 x2=-1.83282 f2=-0.30642 x1=-1.11146 f1=-0.98758 xu=0.05573 d=4.94427 Optimal = -1.11146 Minimum = -0.98758 2\n",
      "xL=-1.83282 x2=-1.11146 f2=-0.98758 x1=-0.66563 f1=-0.88820 xu=0.05573 d=4.94427 Optimal = -1.11146 Minimum = -0.98758 3\n",
      "xL=-1.83282 x2=-1.38699 f2=-0.85024 x1=-1.11146 f1=-0.98758 xu=-0.66563 d=4.94427 Optimal = -1.11146 Minimum = -0.98758 4\n",
      "xL=-1.38699 x2=-1.11146 f2=-0.98758 x1=-0.94117 f1=-0.99654 xu=-0.66563 d=4.94427 Optimal = -1.11146 Minimum = -0.98758 5\n",
      "xL=-1.11146 x2=-0.94117 f2=-0.99654 x1=-0.83592 f1=-0.97308 xu=-0.66563 d=4.94427 Optimal = -0.94117 Minimum = -0.99654 6\n",
      "xL=-1.11146 x2=-1.00621 f2=-0.99996 x1=-0.94117 f1=-0.99654 xu=-0.83592 d=4.94427 Optimal = -0.94117 Minimum = -0.99654 7\n",
      "xL=-1.11146 x2=-1.04641 f2=-0.99785 x1=-1.00621 f1=-0.99996 xu=-0.94117 d=4.94427 Optimal = -1.00621 Minimum = -0.99996 8\n",
      "xL=-1.04641 x2=-1.00621 f2=-0.99996 x1=-0.98137 f1=-0.99965 xu=-0.94117 d=4.94427 Optimal = -1.00621 Minimum = -0.99996 9\n",
      "xL=-1.04641 x2=-1.02157 f2=-0.99953 x1=-1.00621 f1=-0.99996 xu=-0.98137 d=4.94427 Optimal = -1.00621 Minimum = -0.99996 10\n",
      "xL=-1.02157 x2=-1.00621 f2=-0.99996 x1=-0.99672 f1=-0.99999 xu=-0.98137 d=4.94427 Optimal = -1.00621 Minimum = -0.99996 11\n",
      "xL=-1.00621 x2=-0.99672 f2=-0.99999 x1=-0.99086 f1=-0.99992 xu=-0.98137 d=4.94427 Optimal = -0.99672 Minimum = -0.99999 12\n",
      "xL=-1.00621 x2=-1.00035 f2=-1.00000 x1=-0.99672 f1=-0.99999 xu=-0.99086 d=4.94427 Optimal = -0.99672 Minimum = -0.99999 13\n",
      "xL=-1.00621 x2=-1.00259 f2=-0.99999 x1=-1.00035 f1=-1.00000 xu=-0.99672 d=4.94427 Optimal = -1.00035 Minimum = -1.00000 14\n",
      "xL=-1.00259 x2=-1.00035 f2=-1.00000 x1=-0.99896 f1=-1.00000 xu=-0.99672 d=4.94427 Optimal = -1.00035 Minimum = -1.00000 15\n",
      "xL=-1.00259 x2=-1.00120 f2=-1.00000 x1=-1.00035 f1=-1.00000 xu=-0.99896 d=4.94427 Optimal = -1.00035 Minimum = -1.00000 16\n",
      "xL=-1.00120 x2=-1.00035 f2=-1.00000 x1=-0.99982 f1=-1.00000 xu=-0.99896 d=4.94427 Optimal = -1.00035 Minimum = -1.00000 17\n",
      "xL=-1.00035 x2=-0.99982 f2=-1.00000 x1=-0.99949 f1=-1.00000 xu=-0.99896 d=4.94427 Optimal = -0.99982 Minimum = -1.00000 18\n",
      "xL=-1.00035 x2=-1.00002 f2=-1.00000 x1=-0.99982 f1=-1.00000 xu=-0.99949 d=4.94427 Optimal = -0.99982 Minimum = -1.00000 19\n",
      "xL=-1.00035 x2=-1.00014 f2=-1.00000 x1=-1.00002 f1=-1.00000 xu=-0.99982 d=4.94427 Optimal = -1.00002 Minimum = -1.00000 20\n",
      "xL=-1.00014 x2=-1.00002 f2=-1.00000 x1=-0.99994 f1=-1.00000 xu=-0.99982 d=4.94427 Optimal = -1.00002 Minimum = -1.00000 21\n",
      "xL=-1.00014 x2=-1.00007 f2=-1.00000 x1=-1.00002 f1=-1.00000 xu=-0.99994 d=4.94427 Optimal = -1.00002 Minimum = -1.00000 22\n",
      "xL=-1.00007 x2=-1.00002 f2=-1.00000 x1=-0.99999 f1=-1.00000 xu=-0.99994 d=4.94427 Optimal = -1.00002 Minimum = -1.00000 23\n",
      "xL=-1.00002 x2=-0.99999 f2=-1.00000 x1=-0.99997 f1=-1.00000 xu=-0.99994 d=4.94427 Optimal = -0.99999 Minimum = -1.00000 24\n",
      "xL=-1.00002 x2=-1.00000 f2=-1.00000 x1=-0.99999 f1=-1.00000 xu=-0.99997 d=4.94427 Optimal = -0.99999 Minimum = -1.00000 25\n",
      "xL=-1.00002 x2=-1.00001 f2=-1.00000 x1=-1.00000 f1=-1.00000 xu=-0.99999 d=4.94427 Optimal = -1.00000 Minimum = -1.00000 26\n",
      "xL=-1.00001 x2=-1.00000 f2=-1.00000 x1=-1.00000 f1=-1.00000 xu=-0.99999 d=4.94427 Optimal = -1.00000 Minimum = -1.00000 27\n",
      "xL=-1.00001 x2=-1.00000 f2=-1.00000 x1=-1.00000 f1=-1.00000 xu=-1.00000 d=4.94427 Optimal = -1.00000 Minimum = -1.00000 28\n",
      "xL=-1.00000 x2=-1.00000 f2=-1.00000 x1=-1.00000 f1=-1.00000 xu=-1.00000 d=4.94427 Optimal = -1.00000 Minimum = -1.00000 29\n",
      "xL=-1.00000 x2=-1.00000 f2=-1.00000 x1=-1.00000 f1=-1.00000 xu=-1.00000 d=4.94427 Optimal = -1.00000 Minimum = -1.00000 30\n"
     ]
    }
   ],
   "source": [
    "goldmin(lambda x: (x**2)+2*x,-3,5)"
   ]
  },
  {
   "cell_type": "code",
   "execution_count": 11,
   "metadata": {},
   "outputs": [],
   "source": [
    "import numpy as np\n",
    "\n",
    "def goldmin(f,xl,xu,Ea=1.e-7,maxit=30):\n",
    "    \"\"\"\n",
    "    use the golden-section search to find the minimum of f(x)\n",
    "    input:\n",
    "        f = name of the function\n",
    "        xl = lower initial guess\n",
    "        xu = upper initial guess\n",
    "        Ea = absolute relative error criterion (default = 1.e-7)\n",
    "        maxit = maximum number of iterations (default = 30)\n",
    "    output:\n",
    "        xopt = location of the minimum\n",
    "        f(xopt) = function value at the minimum\n",
    "        ea = absolute relative error achieved\n",
    "        i+1 = number of iterations required\n",
    "    \"\"\"\n",
    "    phi = (1+np.sqrt(5))/2\n",
    "    #d = (phi - 1)*(xu-xl)\n",
    "    d = ((1+5**.5)/2-1)*(xu-xl)\n",
    "    x1 = xl + d ; f1 = f(x1)\n",
    "    x2 = xu - d ; f2 = f(x2)\n",
    "    for i in range(maxit):\n",
    "        xint = xu - xl\n",
    "        if f1 < f2:\n",
    "            xopt = x1\n",
    "            xl = x2\n",
    "            x2 = x1\n",
    "            f2 = f1\n",
    "            x1 = xl + (phi-1)*(xu-xl)\n",
    "            f1 = f(x1)\n",
    "        else:\n",
    "            xopt = x2\n",
    "            xu = x1\n",
    "            x1 = x2\n",
    "            f1 = f2\n",
    "            x2 = xu - (phi-1)*(xu-xl)\n",
    "            f2 = f(x2)\n",
    "        if xopt != 0:\n",
    "            ea = (2-phi)*abs(xint/xopt)\n",
    "            if ea <= Ea: break\n",
    "        print(\"%.5f %.5f %d\"%(xopt,f(xopt),i+1))\n",
    "#print(\"%.5f %.5f %.5f %d\"%(xopt,f(xopt),ea,i+1)) \n",
    "#print(\"%.5f %.5f %d\"%(xopt,f(xopt),i+1))\n",
    "#check github\n",
    "#d = ((1+5**.5)/2-1)*(xu-xl)"
   ]
  },
  {
   "cell_type": "code",
   "execution_count": 12,
   "metadata": {},
   "outputs": [
    {
     "name": "stdout",
     "output_type": "stream",
     "text": [
      "0.05573 0.11456 1\n",
      "-1.11146 -0.98758 2\n",
      "-1.11146 -0.98758 3\n",
      "-1.11146 -0.98758 4\n",
      "-1.11146 -0.98758 5\n",
      "-0.94117 -0.99654 6\n",
      "-0.94117 -0.99654 7\n",
      "-1.00621 -0.99996 8\n",
      "-1.00621 -0.99996 9\n",
      "-1.00621 -0.99996 10\n",
      "-1.00621 -0.99996 11\n",
      "-0.99672 -0.99999 12\n",
      "-0.99672 -0.99999 13\n",
      "-1.00035 -1.00000 14\n",
      "-1.00035 -1.00000 15\n",
      "-1.00035 -1.00000 16\n",
      "-1.00035 -1.00000 17\n",
      "-0.99982 -1.00000 18\n",
      "-0.99982 -1.00000 19\n",
      "-1.00002 -1.00000 20\n",
      "-1.00002 -1.00000 21\n",
      "-1.00002 -1.00000 22\n",
      "-1.00002 -1.00000 23\n",
      "-0.99999 -1.00000 24\n",
      "-0.99999 -1.00000 25\n",
      "-1.00000 -1.00000 26\n",
      "-1.00000 -1.00000 27\n",
      "-1.00000 -1.00000 28\n",
      "-1.00000 -1.00000 29\n",
      "-1.00000 -1.00000 30\n"
     ]
    }
   ],
   "source": [
    "goldmin(lambda x: (x**2)+2*x,-3,5)"
   ]
  },
  {
   "cell_type": "code",
   "execution_count": null,
   "metadata": {},
   "outputs": [],
   "source": []
  }
 ],
 "metadata": {
  "colab": {
   "authorship_tag": "ABX9TyPMUqHHCHTvrHFFwINUDq/J",
   "provenance": [
    {
     "file_id": "1GHgBRgVffG_HPu_M3do4My6dYTKwBqVf",
     "timestamp": 1703509550829
    },
    {
     "file_id": "1rOcNQvmE0pLdNWfS927bVtouonf0mC32",
     "timestamp": 1703490437287
    }
   ]
  },
  "kernelspec": {
   "display_name": "Python 3 (ipykernel)",
   "language": "python",
   "name": "python3"
  },
  "language_info": {
   "codemirror_mode": {
    "name": "ipython",
    "version": 3
   },
   "file_extension": ".py",
   "mimetype": "text/x-python",
   "name": "python",
   "nbconvert_exporter": "python",
   "pygments_lexer": "ipython3",
   "version": "3.11.5"
  }
 },
 "nbformat": 4,
 "nbformat_minor": 4
}
