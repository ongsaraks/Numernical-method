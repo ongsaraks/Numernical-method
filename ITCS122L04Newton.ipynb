{
 "cells": [
  {
   "cell_type": "code",
   "execution_count": 1,
   "metadata": {
    "executionInfo": {
     "elapsed": 9,
     "status": "ok",
     "timestamp": 1706420619016,
     "user": {
      "displayName": "Piyanuch Silapachote",
      "userId": "08276091469210251884"
     },
     "user_tz": -420
    },
    "id": "yyWdTUpVpH0-"
   },
   "outputs": [],
   "source": [
    "def newtraph(f,fp,x0,Ea=1.e-7,maxit=30):\n",
    "  \"\"\"\n",
    "  This function solves f(x)=0 using the Newton-Raphson method.\n",
    "  The method is repeated until either the relative error\n",
    "  falls below Ea (default 1.e-7) or reaches maxit (default 30).\n",
    "  Input:\n",
    "    f = name of the function for f(x)\n",
    "    fp = name of the function for f'(x)\n",
    "    x0 = initial guess for x\n",
    "    Ea = relative error threshold\n",
    "    maxit = maximum number of iterations\n",
    "  Output:\n",
    "    x1 = solution estimate\n",
    "    f(x1) = equation error at solution estimate\n",
    "    ea = relative error\n",
    "    i+1 = number of iterations\n",
    "  \"\"\"\n",
    "  for i in range(maxit):\n",
    "    x1 = x0 -f(x0)/fp(x0)\n",
    "    ea = ((x1-x0)/x1)*100\n",
    "    print(\"%.5f %.5f %d\"%(x1, ea, i+1))\n",
    "    if abs(ea) < Ea: break\n",
    "    x0 = x1\n",
    "  return x1,f(x1),ea,i+1"
   ]
  },
  {
   "cell_type": "code",
   "execution_count": 5,
   "metadata": {
    "colab": {
     "base_uri": "https://localhost:8080/"
    },
    "executionInfo": {
     "elapsed": 8,
     "status": "ok",
     "timestamp": 1706420619016,
     "user": {
      "displayName": "Piyanuch Silapachote",
      "userId": "08276091469210251884"
     },
     "user_tz": -420
    },
    "id": "lTg2Ya72r6bh",
    "outputId": "14cb1b22-a5aa-4622-a425-e9880523b3ba"
   },
   "outputs": [
    {
     "name": "stdout",
     "output_type": "stream",
     "text": [
      "14.07803 -6.54902 1\n",
      "14.32007 1.69023 2\n",
      "14.32864 0.05985 3\n",
      "14.32866 0.00010 4\n",
      "14.32865879190586 -2.5370899825460924e-11 0.00010381775251312398 4\n",
      "-2.0394229971315703\n",
      "0.5616276586422719\n"
     ]
    }
   ],
   "source": [
    "import sympy as np\n",
    "x = np.Symbol('x')\n",
    "fx = np.log(2*x**2) + np.sin(4*x/5) - (x/2)\n",
    "dfx = fx.diff(x)\n",
    "ddfx = dfx.diff(x)\n",
    "fx = np.lambdify(x,fx)\n",
    "dfx = np.lambdify(x,dfx)\n",
    "ddfx = np.lambdify(x,ddfx)\n",
    "(xm,ym,ea,it) = newtraph(dfx, ddfx ,15,0.0005)\n",
    "print(xm,ym,ea,it)\n",
    "print(fx(xm))\n",
    "print(ddfx(xm))"
   ]
  },
  {
   "cell_type": "code",
   "execution_count": null,
   "metadata": {},
   "outputs": [],
   "source": []
  },
  {
   "cell_type": "code",
   "execution_count": null,
   "metadata": {},
   "outputs": [],
   "source": []
  }
 ],
 "metadata": {
  "colab": {
   "authorship_tag": "ABX9TyN31WKlJu0S0/39mEwJkMN6",
   "provenance": [
    {
     "file_id": "1GHgBRgVffG_HPu_M3do4My6dYTKwBqVf",
     "timestamp": 1703509550829
    },
    {
     "file_id": "1rOcNQvmE0pLdNWfS927bVtouonf0mC32",
     "timestamp": 1703490437287
    }
   ]
  },
  "kernelspec": {
   "display_name": "Python 3 (ipykernel)",
   "language": "python",
   "name": "python3"
  },
  "language_info": {
   "codemirror_mode": {
    "name": "ipython",
    "version": 3
   },
   "file_extension": ".py",
   "mimetype": "text/x-python",
   "name": "python",
   "nbconvert_exporter": "python",
   "pygments_lexer": "ipython3",
   "version": "3.11.5"
  }
 },
 "nbformat": 4,
 "nbformat_minor": 4
}
