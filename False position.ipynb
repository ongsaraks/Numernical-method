{
 "cells": [
  {
   "cell_type": "code",
   "execution_count": 5,
   "id": "4f7c64b7",
   "metadata": {},
   "outputs": [],
   "source": [
    "def falseposition(func,xl,xu,es=1.e-7,maxit=30):\n",
    "\n",
    "    \"\"\"\n",
    "    Uses the bisection method to estimate a root of func(x).\n",
    "    The method is iterated until the relative error from\n",
    "    one iteration to the next falls below the specified\n",
    "    value or until the maximum number of iterations is\n",
    "    reached first.\n",
    "    Input:\n",
    "        func = name of the function\n",
    "        xl = lower guess\n",
    "        xu = upper guess\n",
    "        es = relative error specification (default 1.e−7)\n",
    "        maxit = maximum number of iterations allowed (default 30)\n",
    "    Output:\n",
    "        xm = root estimate\n",
    "        ea = actual relative error achieved\n",
    "        i+1 = number of iter+1ations required\n",
    "        or\n",
    "        error message if initial guesses do not bracket solution\n",
    "    \"\"\"\n",
    "     \n",
    "    if func(xl)*func(xu)>0:\n",
    "        return 'initial estimates do not bracket solution'\n",
    "    xmold = xl\n",
    "    \n",
    "    for i in range(0,maxit,1):\n",
    "        #xm = (((func(xu))*xl) - ((func(xl))*xu))/((func(xu)) \n",
    "        xm = ((func(xu)*xl) - (func(xl))*xu)/(func(xu) - func(xl))\n",
    "        ea = abs((xm-xmold)/xm)\n",
    "        #print(func(xm))\n",
    "        if ea < es: break\n",
    "        print(\"%.6f,%.6f,%.6f,%.6f,%.6f,%.6f,%.6f,%d\"%(xl,xu,xm,func(xl),func(xu),func(xm),ea,i+1))\n",
    "        \n",
    "        if func(xm)*func(xl)>0:\n",
    "            xl = xm\n",
    "        else:\n",
    "            xu = xm\n",
    "        xmold = xm\n",
    "        #print(func(xm))"
   ]
  },
  {
   "cell_type": "code",
   "execution_count": 6,
   "id": "a0c6a350",
   "metadata": {},
   "outputs": [
    {
     "name": "stdout",
     "output_type": "stream",
     "text": [
      "-0.500000,0.000000,-0.444444,0.125000,-1.000000,-0.001372,0.125000,1\n",
      "-0.500000,-0.444444,-0.445047,0.125000,-0.001372,0.000013,0.001355,2\n",
      "-0.445047,-0.444444,-0.445042,0.000013,-0.001372,0.000000,0.000013,3\n"
     ]
    }
   ],
   "source": [
    "falseposition(lambda x: ((x**3) + (x**2)-(2*x))-1,-0.5,0,)"
   ]
  },
  {
   "cell_type": "code",
   "execution_count": 23,
   "id": "78d3e4f5",
   "metadata": {},
   "outputs": [],
   "source": [
    "def falseposition(func,xl,xu,es=1.e-7,maxit=100):\n",
    "\n",
    "    \"\"\"\n",
    "    Uses the bisection method to estimate a root of func(x).\n",
    "    The method is iterated until the relative error from\n",
    "    one iteration to the next falls below the specified\n",
    "    value or until the maximum number of iterations is\n",
    "    reached first.\n",
    "    Input:\n",
    "        func = name of the function\n",
    "        xl = lower guess\n",
    "        xu = upper guess\n",
    "        es = relative error specification (default 1.e−7)\n",
    "        maxit = maximum number of iterations allowed (default 30)\n",
    "    Output:\n",
    "        xm = root estimate\n",
    "        ea = actual relative error achieved\n",
    "        i+1 = number of iter+1ations required\n",
    "        or\n",
    "        error message if initial guesses do not bracket solution\n",
    "    \"\"\"\n",
    "     \n",
    "    if func(xl)*func(xu)>0:\n",
    "        return 'initial estimates do not bracket solution'\n",
    "    xmold = xl\n",
    "    \n",
    "    for i in range(0,maxit,1):\n",
    "        #xm = (((func(xu))*xl) - ((func(xl))*xu))/((func(xu)) \n",
    "        xm = ((func(xu)*xl) - (func(xl))*xu)/(func(xu) - func(xl))\n",
    "        ea = abs((xm-xmold)/xm)\n",
    "        #print(func(xm))\n",
    "        if ea < es: break\n",
    "        print(\"%.6f,%.6f,%.6f,%.6f,%.6f,%.6f,%.6f,%d\"%(xl,xu,xm,func(xl),func(xu),func(xm),ea,i+1))\n",
    "        \n",
    "        if func(xm)*func(xl)>0:\n",
    "            xl = xm\n",
    "        else:\n",
    "            xu = xm\n",
    "        xmold = xm\n",
    "        #print(func(xm))"
   ]
  },
  {
   "cell_type": "code",
   "execution_count": 24,
   "id": "064e57ef",
   "metadata": {},
   "outputs": [
    {
     "name": "stdout",
     "output_type": "stream",
     "text": [
      "3.750000,4.000000,3.754141,0.014603,-0.866957,-0.015934,0.001103,1\n",
      "3.750000,3.754141,3.751980,0.014603,-0.015934,0.000003,0.000576,2\n"
     ]
    }
   ],
   "source": [
    "falseposition(lambda x: ((np.cos(x**2) - np.sin(2*x - 6) + x/4)),3.75,4.0,0.0005)"
   ]
  },
  {
   "cell_type": "code",
   "execution_count": 5,
   "id": "50ed10b5",
   "metadata": {},
   "outputs": [],
   "source": [
    "def bisect(func,xl,xu,es=1.e-7,maxit=30):\n",
    "    \"\"\"\n",
    "    Uses the bisection method to estimate a root of func(x).\n",
    "    The method is iterated until the relative error from\n",
    "    one iteration to the next falls below the specified\n",
    "    value or until the maximum number of iterations is\n",
    "    reached first.\n",
    "    Input:\n",
    "        func = name of the function\n",
    "        xl = lower guess\n",
    "        xu = upper guess\n",
    "        es = relative error specification (default 1.e−7)\n",
    "        maxit = maximum number of iterations allowed (default 30)\n",
    "    Output:\n",
    "        xm = root estimate\n",
    "        ea = actual relative error achieved\n",
    "        i+1 = number of iterations required\n",
    "        or\n",
    "        error message if initial guesses do not bracket solution\n",
    "    \"\"\"\n",
    "    if func(xl)*func(xu)>0:\n",
    "        return 'initial estimates do not bracket solution'\n",
    "    xmold = xl\n",
    "    for i in range(maxit):\n",
    "        xm = ((func(xu)*xl) - (func(xl))*xu)/(func(xu) - func(xl))\n",
    "        eana = ((xm-xmold)/xm)*100\n",
    "        ea = abs((xm-xmold)/xm)*100\n",
    "        print(((xm-xmold)/xm)*100)\n",
    "        if ea < es: break\n",
    "        if func(xm)*func(xl)>0:\n",
    "            xl = xm\n",
    "        else:\n",
    "            xu = xm\n",
    "        xmold = xm\n",
    "        print(xm,func(xm),ea,i+1)\n",
    "    return xm,func(xm),eana,i+1"
   ]
  },
  {
   "cell_type": "code",
   "execution_count": 8,
   "id": "aefbd4fa-952a-479a-9006-558c40c7a0e3",
   "metadata": {},
   "outputs": [
    {
     "name": "stdout",
     "output_type": "stream",
     "text": [
      "45.0087054586017\n",
      "5.45540894248553 -0.1407168626500075 45.0087054586017 1\n",
      "-2.3250387323143826\n",
      "5.331450649881557 0.024224375330087256 2.3250387323143826 2\n",
      "0.34030871142078595\n",
      "5.349655995264486 -0.0011897526739179654 0.34030871142078595 3\n",
      "-0.015933960560676978\n",
      "5.348803718989434 -8.72406871987863e-06 -0.015933960560676978 4\n",
      "3.787319091495971\n"
     ]
    }
   ],
   "source": [
    "import sympy as np\n",
    "x = np.Symbol('x')\n",
    "fx = ((x**2)/9) - 2*(np.sin(x)) - 1\n",
    "dfx = fx.diff(x)\n",
    "ddfx = dfx.diff(x)\n",
    "fx = np.lambdify(x,fx)\n",
    "dfx = np.lambdify(x,dfx)\n",
    "ddfx = np.lambdify(x,ddfx)\n",
    "(xm,ym,ea,it) = bisect(dfx ,3,6,0.05)\n",
    "print(xm,ym,ea,it)\n",
    "print(fx(xm))\n"
   ]
  },
  {
   "cell_type": "code",
   "execution_count": 8,
   "id": "feaab8ca-8ea5-448f-a0bb-e7bf837c125e",
   "metadata": {},
   "outputs": [],
   "source": [
    "def bisectq3(func,xl,xu,es=1.e-7,maxit=30):\n",
    "    \"\"\"\n",
    "    Uses the bisection method to estimate a root of func(x).\n",
    "    The method is iterated until the relative error from\n",
    "    one iteration to the next falls below the specified\n",
    "    value or until the maximum number of iterations is\n",
    "    reached first.\n",
    "    Input:\n",
    "        func = name of the function\n",
    "        xl = lower guess\n",
    "        xu = upper guess\n",
    "        es = relative error specification (default 1.e−7)\n",
    "        maxit = maximum number of iterations allowed (default 30)\n",
    "    Output:\n",
    "        xm = root estimate\n",
    "        ea = actual relative error achieved\n",
    "        i+1 = number of iterations required\n",
    "        or\n",
    "        error message if initial guesses do not bracket solution\n",
    "    \"\"\"\n",
    "    if func(xl)*func(xu)>0:\n",
    "        return 'initial estimates do not bracket solution'\n",
    "    xmold = xl\n",
    "    for i in range(maxit):\n",
    "        xm = ((func(xu)*xl) - (func(xl))*xu)/(func(xu) - func(xl))\n",
    "        eana = ((xm-xmold)/xm)*100\n",
    "        ea = abs((xm-xmold)/xm)*100\n",
    "        print(((xm-xmold)/xm)*100)\n",
    "        if ea < es: break\n",
    "        if func(xm)*func(xl)>0:\n",
    "            xl = xm\n",
    "        else:\n",
    "            xu = xm\n",
    "        xmold = xm\n",
    "        print(xm,func(xm),eana,i+1)#return eana for making result not abs eana =  ea no absolute\n",
    "    return xm,func(xm),eana,i+1"
   ]
  },
  {
   "cell_type": "code",
   "execution_count": 9,
   "id": "d4a916a2-b9d6-4dd4-af9a-01b35701f7aa",
   "metadata": {},
   "outputs": [
    {
     "name": "stdout",
     "output_type": "stream",
     "text": [
      "100.0\n",
      "1.2912523768073927 -0.2648896883685529 100.0 1\n",
      "10.745773239975756\n",
      "1.4467128601978176 0.07396114902510822 10.745773239975756 2\n",
      "-2.4018198676229754\n",
      "1.4127804193988098 -0.0007670836096943523 -2.4018198676229754 3\n",
      "0.024648549348756505\n",
      "1.4131287351324504 -1.7085920311354919e-06 0.024648549348756505 4\n",
      "-2.753310960990274\n"
     ]
    }
   ],
   "source": [
    "import sympy as np\n",
    "x = np.Symbol('x')\n",
    "fx = ((x**2)/9) - 2*(np.sin(x)) - 1\n",
    "dfx = fx.diff(x)\n",
    "ddfx = dfx.diff(x)\n",
    "fx = np.lambdify(x,fx)\n",
    "dfx = np.lambdify(x,dfx)\n",
    "ddfx = np.lambdify(x,ddfx)\n",
    "(xm,ym,ea,it) = bisectq3(dfx ,0,3,0.05)\n",
    "print(xm,ym,ea,it)\n",
    "print(fx(xm))"
   ]
  },
  {
   "cell_type": "code",
   "execution_count": null,
   "id": "67b267ab-e579-4c33-928d-9dd3e51d845c",
   "metadata": {},
   "outputs": [],
   "source": []
  },
  {
   "cell_type": "code",
   "execution_count": null,
   "id": "8533f5ba-55bc-4e9e-9a4c-6bff1c9bc9f0",
   "metadata": {},
   "outputs": [],
   "source": []
  }
 ],
 "metadata": {
  "kernelspec": {
   "display_name": "Python 3 (ipykernel)",
   "language": "python",
   "name": "python3"
  },
  "language_info": {
   "codemirror_mode": {
    "name": "ipython",
    "version": 3
   },
   "file_extension": ".py",
   "mimetype": "text/x-python",
   "name": "python",
   "nbconvert_exporter": "python",
   "pygments_lexer": "ipython3",
   "version": "3.11.5"
  }
 },
 "nbformat": 4,
 "nbformat_minor": 5
}
