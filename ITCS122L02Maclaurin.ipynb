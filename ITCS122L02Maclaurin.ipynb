{
 "cells": [
  {
   "cell_type": "code",
   "execution_count": 1,
   "metadata": {
    "executionInfo": {
     "elapsed": 6,
     "status": "ok",
     "timestamp": 1703490828762,
     "user": {
      "displayName": "Piyanuch Silapachote",
      "userId": "08276091469210251884"
     },
     "user_tz": -420
    },
    "id": "ur7J2d487w3m"
   },
   "outputs": [],
   "source": [
    "import math\n",
    "import numpy as np\n",
    "def itermeth(x,es=1e-4,maxit=50):\n",
    "    \"\"\"\n",
    "    Maclaurin series expansion of the exponential function\n",
    "    requires math module\n",
    "    input:\n",
    "        x = value at which the series is evaluated\n",
    "        es = stopping criterion (default=1e-4)\n",
    "        maxit = maximum number of iterations (default=50)\n",
    "    output:\n",
    "        fx = estimated function value\n",
    "        ea = approximate relative error (%)\n",
    "        iter = number of iterations\n",
    "    \"\"\"\n",
    "    # initialization\n",
    "    iter = 0; sol = 0 ; ea = 100\n",
    "    # iterative calculation\n",
    "    while True:\n",
    "        solold = sol\n",
    "        #sol = sol + x**iter / math.factorial(iter)\n",
    "        sol = sol + ((-1)**iter)*(x**(2*iter+1)) / math.factorial(2*iter+1)\n",
    "        iter = iter + 1\n",
    "        if sol != 0: ea = abs((sol-solold)/sol)*100\n",
    "        if ea < es or iter == maxit: break\n",
    "    fx = sol\n",
    "    print(fx,ea,iter)"
   ]
  },
  {
   "cell_type": "code",
   "execution_count": 2,
   "metadata": {
    "colab": {
     "base_uri": "https://localhost:8080/"
    },
    "executionInfo": {
     "elapsed": 8,
     "status": "ok",
     "timestamp": 1703490901892,
     "user": {
      "displayName": "Piyanuch Silapachote",
      "userId": "08276091469210251884"
     },
     "user_tz": -420
    },
    "id": "WqXYy07B-ALh",
    "outputId": "5a134bee-8020-4a9a-840e-be1dc1530dfa"
   },
   "outputs": [
    {
     "name": "stdout",
     "output_type": "stream",
     "text": [
      "0.555570233093655 4.235047654932571e-06 5\n"
     ]
    }
   ],
   "source": [
    "itermeth(3*math.pi/ 16,0.0005,100)"
   ]
  },
  {
   "cell_type": "code",
   "execution_count": null,
   "metadata": {},
   "outputs": [],
   "source": []
  },
  {
   "cell_type": "code",
   "execution_count": null,
   "metadata": {},
   "outputs": [],
   "source": []
  }
 ],
 "metadata": {
  "colab": {
   "authorship_tag": "ABX9TyM83+mgN31zk7ae1Fuou1X3",
   "provenance": [
    {
     "file_id": "1rOcNQvmE0pLdNWfS927bVtouonf0mC32",
     "timestamp": 1703490561294
    }
   ]
  },
  "kernelspec": {
   "display_name": "Python 3 (ipykernel)",
   "language": "python",
   "name": "python3"
  },
  "language_info": {
   "codemirror_mode": {
    "name": "ipython",
    "version": 3
   },
   "file_extension": ".py",
   "mimetype": "text/x-python",
   "name": "python",
   "nbconvert_exporter": "python",
   "pygments_lexer": "ipython3",
   "version": "3.11.5"
  }
 },
 "nbformat": 4,
 "nbformat_minor": 4
}
